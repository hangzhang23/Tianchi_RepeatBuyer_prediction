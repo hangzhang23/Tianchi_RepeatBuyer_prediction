{
 "cells": [
  {
   "cell_type": "code",
   "execution_count": 1,
   "metadata": {
    "ExecuteTime": {
     "end_time": "2021-02-27T07:47:21.035372Z",
     "start_time": "2021-02-27T07:47:20.373393Z"
    }
   },
   "outputs": [],
   "source": [
    "import gc\n",
    "import pandas as pd"
   ]
  },
  {
   "cell_type": "markdown",
   "metadata": {},
   "source": [
    "# 读取数据\n",
    "小样本（搭建模型）"
   ]
  },
  {
   "cell_type": "code",
   "execution_count": 2,
   "metadata": {
    "ExecuteTime": {
     "end_time": "2021-02-27T07:47:40.322173Z",
     "start_time": "2021-02-27T07:47:22.980712Z"
    }
   },
   "outputs": [],
   "source": [
    "# 加载小样本\n",
    "user_log = pd.read_csv('../L13/data_format1_small/sample_user_log.csv', dtype={'time_stamp':'str'})\n",
    "user_info = pd.read_csv('../L13/data_format1_small/sample_user_info.csv')\n",
    "train_data1 = pd.read_csv('../L13/data_format1_small/train.csv')\n",
    "submission = pd.read_csv('../L13/data_format1_small/test.csv')\n",
    "train_data = pd.read_csv('./data_format2/train_format2.csv')"
   ]
  },
  {
   "cell_type": "markdown",
   "metadata": {},
   "source": [
    "全量样本（跑分用）"
   ]
  },
  {
   "cell_type": "code",
   "execution_count": 36,
   "metadata": {
    "ExecuteTime": {
     "end_time": "2021-02-27T08:02:49.957139Z",
     "start_time": "2021-02-27T08:02:01.196712Z"
    }
   },
   "outputs": [],
   "source": [
    "# 加载全量样本\n",
    "user_log = pd.read_csv('./data_format1/user_log_format1.csv', dtype={'time_stamp':'str'})\n",
    "user_info = pd.read_csv('./data_format1/user_info_format1.csv')\n",
    "train_data1 = pd.read_csv('./data_format1/train_format1.csv')\n",
    "submission = pd.read_csv('./data_format1/test_format1.csv')\n",
    "train_data = pd.read_csv('./data_format2/train_format2.csv')"
   ]
  },
  {
   "cell_type": "code",
   "execution_count": 37,
   "metadata": {
    "ExecuteTime": {
     "end_time": "2021-02-27T08:02:50.098280Z",
     "start_time": "2021-02-27T08:02:50.065367Z"
    }
   },
   "outputs": [],
   "source": [
    "train_data1['origin'] = 'train'\n",
    "submission['origin'] = 'test'\n",
    "matrix = pd.concat([train_data1, submission], ignore_index=True, sort=False)"
   ]
  },
  {
   "cell_type": "markdown",
   "metadata": {},
   "source": [
    "# 数据预处理\n",
    "## 数据格式处理\n",
    "对matrix用left join去关联user_info的数据"
   ]
  },
  {
   "cell_type": "code",
   "execution_count": 38,
   "metadata": {
    "ExecuteTime": {
     "end_time": "2021-02-27T08:02:50.499233Z",
     "start_time": "2021-02-27T08:02:50.186289Z"
    }
   },
   "outputs": [],
   "source": [
    "matrix.drop(['prob'], axis=1, inplace=True)\n",
    "# 连接user_info表，通过user_id关联\n",
    "matrix = matrix.merge(user_info, on='user_id', how='left')\n",
    "# 使用merchant_id（原列名seller_id）\n",
    "user_log.rename(columns={'seller_id':'merchant_id'}, inplace=True)"
   ]
  },
  {
   "cell_type": "markdown",
   "metadata": {},
   "source": [
    "对user_log数据格式处理：填补空值，缩小体量"
   ]
  },
  {
   "cell_type": "code",
   "execution_count": 39,
   "metadata": {
    "ExecuteTime": {
     "end_time": "2021-02-27T08:03:03.571826Z",
     "start_time": "2021-02-27T08:02:50.599937Z"
    }
   },
   "outputs": [],
   "source": [
    "# 格式化\n",
    "user_log['user_id'] = user_log['user_id'].astype('int32')\n",
    "user_log['merchant_id'] = user_log['merchant_id'].astype('int32')\n",
    "user_log['item_id'] = user_log['item_id'].astype('int32')\n",
    "user_log['cat_id'] = user_log['cat_id'].astype('int32')\n",
    "user_log['brand_id'].fillna(0, inplace=True)\n",
    "user_log['brand_id'] = user_log['brand_id'].astype('int32')\n",
    "user_log['time_stamp'] = pd.to_datetime(user_log['time_stamp'], format='%H%M')"
   ]
  },
  {
   "cell_type": "markdown",
   "metadata": {},
   "source": [
    "## 离散特征处理\n",
    "### 填补空值  \n",
    "对离散特征进行填补空值以及修改数据格式，并在处理完之后释放内存，垃圾回收"
   ]
  },
  {
   "cell_type": "code",
   "execution_count": 40,
   "metadata": {
    "ExecuteTime": {
     "end_time": "2021-02-27T08:03:10.158146Z",
     "start_time": "2021-02-27T08:03:09.883879Z"
    },
    "scrolled": true
   },
   "outputs": [
    {
     "data": {
      "text/plain": [
       "724"
      ]
     },
     "execution_count": 40,
     "metadata": {},
     "output_type": "execute_result"
    }
   ],
   "source": [
    "# 1 for <18; 2 for [18,24]; 3 for [25,29]; 4 for [30,34]; 5 for [35,39]; 6 for [40,49]; 7 and 8 for >= 50; 0 and NULL for unknown\n",
    "matrix['age_range'].fillna(0, inplace=True)\n",
    "# 0:female, 1:male, 2:unknown\n",
    "matrix['gender'].fillna(2, inplace=True)\n",
    "matrix['age_range'] = matrix['age_range'].astype('int8')\n",
    "matrix['gender'] = matrix['gender'].astype('int8')\n",
    "matrix['label'] = matrix['label'].astype('str')\n",
    "matrix['user_id'] = matrix['user_id'].astype('int32')\n",
    "matrix['merchant_id'] = matrix['merchant_id'].astype('int32')\n",
    "del user_info, train_data1\n",
    "gc.collect()"
   ]
  },
  {
   "cell_type": "code",
   "execution_count": 41,
   "metadata": {
    "ExecuteTime": {
     "end_time": "2021-02-27T08:03:12.990438Z",
     "start_time": "2021-02-27T08:03:12.980463Z"
    },
    "scrolled": true
   },
   "outputs": [
    {
     "name": "stdout",
     "output_type": "stream",
     "text": [
      "        user_id  merchant_id label origin  age_range  gender\n",
      "0         34176         3906   0.0  train          6       0\n",
      "1         34176          121   0.0  train          6       0\n",
      "2         34176         4356   1.0  train          6       0\n",
      "3         34176         2217   0.0  train          6       0\n",
      "4        230784         4818   0.0  train          0       0\n",
      "...         ...          ...   ...    ...        ...     ...\n",
      "522336   228479         3111   nan   test          6       0\n",
      "522337    97919         2341   nan   test          8       1\n",
      "522338    97919         3971   nan   test          8       1\n",
      "522339    32639         3536   nan   test          0       0\n",
      "522340    32639         3319   nan   test          0       0\n",
      "\n",
      "[522341 rows x 6 columns]\n"
     ]
    }
   ],
   "source": [
    "print(matrix)"
   ]
  },
  {
   "cell_type": "markdown",
   "metadata": {},
   "source": [
    "### 用户画像  \n",
    "- 'u1':用户被交互数量\n",
    "- 'u2':用户购买唯一item数量\n",
    "- 'u3':用户购买不重复的categories数量\n",
    "- 'u4':用户购买不重复的商家数量\n",
    "- 'u5':用户购买不重复的品牌数量"
   ]
  },
  {
   "cell_type": "code",
   "execution_count": 42,
   "metadata": {
    "ExecuteTime": {
     "end_time": "2021-02-27T08:07:16.735559Z",
     "start_time": "2021-02-27T08:03:15.604625Z"
    }
   },
   "outputs": [],
   "source": [
    "# User特征处理\n",
    "groups = user_log.groupby(['user_id'])\n",
    "# 用户交互行为数量 u1\n",
    "temp = groups.size().reset_index().rename(columns={0:'u1'})\n",
    "matrix = matrix.merge(temp, on='user_id', how='left')\n",
    "# 使用agg 基于列的聚合操作，统计唯一值的个数 item_id, cat_id, merchant_id, brand_id\n",
    "#temp = groups['item_id', 'cat_id', 'merchant_id', 'brand_id'].nunique().reset_index().rename(columns={'item_id':'u2', 'cat_id':'u3', 'merchant_id':'u4', 'brand_id':'u5'})\n",
    "# 对于每个user_id 不重复的item_id的数量 => u2\n",
    "temp = groups['item_id'].agg([('u2', 'nunique')]).reset_index()\n",
    "matrix = matrix.merge(temp, on='user_id', how='left')\n",
    "# 对于每个user_id 不重复的cat_id的数量 => u3\n",
    "temp = groups['cat_id'].agg([('u3', 'nunique')]).reset_index()\n",
    "matrix = matrix.merge(temp, on='user_id', how='left')\n",
    "temp = groups['merchant_id'].agg([('u4', 'nunique')]).reset_index()\n",
    "matrix = matrix.merge(temp, on='user_id', how='left')\n",
    "temp = groups['brand_id'].agg([('u5', 'nunique')]).reset_index()\n",
    "matrix = matrix.merge(temp, on='user_id', how='left')"
   ]
  },
  {
   "cell_type": "markdown",
   "metadata": {},
   "source": [
    "- 'u6':用户的时间差\n",
    "- 'u7 - u10':用户的action_type情况"
   ]
  },
  {
   "cell_type": "code",
   "execution_count": 43,
   "metadata": {
    "ExecuteTime": {
     "end_time": "2021-02-27T08:07:33.860997Z",
     "start_time": "2021-02-27T08:07:16.847483Z"
    }
   },
   "outputs": [],
   "source": [
    "# 时间间隔特征 u6 按照小时\n",
    "# 对于每个user_id 计算time_stamp的最小时间 => F_time, 最大时间max => L_time\n",
    "temp = groups['time_stamp'].agg([('F_time', 'min'), ('L_time', 'max')]).reset_index()\n",
    "temp['u6'] = (temp['L_time'] - temp['F_time']).dt.seconds/3600\n",
    "matrix = matrix.merge(temp[['user_id', 'u6']], on='user_id', how='left')\n",
    "# 统计操作类型为0，1，2，3的个数\n",
    "temp = groups['action_type'].value_counts().unstack().reset_index().rename(columns={0:'u7', 1:'u8', 2:'u9', 3:'u10'})\n",
    "matrix = matrix.merge(temp, on='user_id', how='left')\n",
    "#print(matrix)"
   ]
  },
  {
   "cell_type": "markdown",
   "metadata": {},
   "source": [
    "### 商家特征\n",
    "- 'm1':商家被交互数量\n",
    "- 'm2':商家被交互的不重复user_id数量\n",
    "- 'm3':商家被交互的不重复item_id数量\n",
    "- 'm4':商家被交互的不重复cat_id数量\n",
    "- 'm5':商家被交互的不重复brand_id数量\n",
    "- 'm6 - m9':商家被交互的action_type情况\n",
    "- 'm10':按照商家id随机负采样个数"
   ]
  },
  {
   "cell_type": "code",
   "execution_count": 44,
   "metadata": {
    "ExecuteTime": {
     "end_time": "2021-02-27T08:12:20.397657Z",
     "start_time": "2021-02-27T08:07:33.960400Z"
    },
    "scrolled": true
   },
   "outputs": [
    {
     "name": "stderr",
     "output_type": "stream",
     "text": [
      "<ipython-input-44-22f88d20bd91>:7: FutureWarning: Indexing with multiple keys (implicitly converted to a tuple of keys) will be deprecated, use a list instead.\n",
      "  temp = groups['user_id', 'item_id', 'cat_id', 'brand_id'].nunique().reset_index().rename(columns={'user_id':'m2', 'item_id':'m3', 'cat_id':'m4', 'brand_id':'m5'})\n"
     ]
    }
   ],
   "source": [
    "# 商家特征处理\n",
    "groups = user_log.groupby(['merchant_id'])\n",
    "# 商家被交互行为数量 m1\n",
    "temp = groups.size().reset_index().rename(columns={0:'m1'})\n",
    "matrix = matrix.merge(temp, on='merchant_id', how='left')\n",
    "# 统计商家被交互的user_id, item_id, cat_id, brand_id 唯一值\n",
    "temp = groups['user_id', 'item_id', 'cat_id', 'brand_id'].nunique().reset_index().rename(columns={'user_id':'m2', 'item_id':'m3', 'cat_id':'m4', 'brand_id':'m5'})\n",
    "matrix = matrix.merge(temp, on='merchant_id', how='left')\n",
    "# 统计商家被交互的action_type 唯一值\n",
    "temp = groups['action_type'].value_counts().unstack().reset_index().rename(columns={0:'m6', 1:'m7', 2:'m8', 3:'m9'})\n",
    "matrix = matrix.merge(temp, on='merchant_id', how='left')\n",
    "# 按照merchant_id 统计随机负采样的个数\n",
    "temp = train_data[train_data['label']==1].groupby(['merchant_id']).size().reset_index().rename(columns={0:'m10'})\n",
    "matrix = matrix.merge(temp, on='merchant_id', how='left')\n",
    "#print(matrix)"
   ]
  },
  {
   "cell_type": "markdown",
   "metadata": {},
   "source": [
    "### 商家画像和用户画像交叉\n",
    "- 'um1':统计两个画像交互的情况下的数量\n",
    "- 'um2':统计两个画像交互的情况下不重复item_id的数量\n",
    "- 'um3':统计两个画像交互的情况下不重复cat_id的数量\n",
    "- 'um4':统计两个画像交互的情况下不重复brand_id数量\n",
    "- 'um5 - m8':统计两个画像交互的情况下交互的不同action_type情况\n",
    "- 'um9':统计两个画像交互的情况下的时间差"
   ]
  },
  {
   "cell_type": "code",
   "execution_count": 45,
   "metadata": {
    "ExecuteTime": {
     "end_time": "2021-02-27T08:17:01.172370Z",
     "start_time": "2021-02-27T08:12:20.826407Z"
    }
   },
   "outputs": [
    {
     "name": "stderr",
     "output_type": "stream",
     "text": [
      "<ipython-input-45-7bfaa8c0ed53>:5: FutureWarning: Indexing with multiple keys (implicitly converted to a tuple of keys) will be deprecated, use a list instead.\n",
      "  temp = groups['item_id', 'cat_id', 'brand_id'].nunique().reset_index().rename(columns={'item_id':'um2', 'cat_id':'um3', 'brand_id':'um4'}) #统计item_id, cat_id, brand_id唯一个数\n"
     ]
    }
   ],
   "source": [
    "# 按照user_id, merchant_id分组\n",
    "groups = user_log.groupby(['user_id', 'merchant_id'])\n",
    "temp = groups.size().reset_index().rename(columns={0:'um1'}) #统计行为个数\n",
    "matrix = matrix.merge(temp, on=['user_id', 'merchant_id'], how='left')\n",
    "temp = groups['item_id', 'cat_id', 'brand_id'].nunique().reset_index().rename(columns={'item_id':'um2', 'cat_id':'um3', 'brand_id':'um4'}) #统计item_id, cat_id, brand_id唯一个数\n",
    "matrix = matrix.merge(temp, on=['user_id', 'merchant_id'], how='left')\n",
    "temp = groups['action_type'].value_counts().unstack().reset_index().rename(columns={0:'um5', 1:'um6', 2:'um7', 3:'um8'})#统计不同action_type唯一个数\n",
    "matrix = matrix.merge(temp, on=['user_id', 'merchant_id'], how='left')\n",
    "temp = groups['time_stamp'].agg([('first', 'min'), ('last', 'max')]).reset_index()\n",
    "temp['um9'] = (temp['last'] - temp['first']).dt.seconds/3600\n",
    "temp.drop(['first', 'last'], axis=1, inplace=True)\n",
    "matrix = matrix.merge(temp, on=['user_id', 'merchant_id'], how='left') #统计时间间隔\n",
    "#print(matrix)"
   ]
  },
  {
   "cell_type": "markdown",
   "metadata": {},
   "source": [
    "### 特征之间的一些统计数值\n",
    "- 'r1':用户购买点击比\n",
    "- 'r2':商家购买点击比\n",
    "- 'r3':不同用户不同商家购买点击比  \n",
    "\n",
    "对age和gender做one-hot处理"
   ]
  },
  {
   "cell_type": "code",
   "execution_count": 46,
   "metadata": {
    "ExecuteTime": {
     "end_time": "2021-02-27T08:17:02.790043Z",
     "start_time": "2021-02-27T08:17:01.562328Z"
    }
   },
   "outputs": [],
   "source": [
    "#用户购买点击比\n",
    "matrix['r1'] = matrix['u9']/matrix['u7'] \n",
    "#商家购买点击比\n",
    "matrix['r2'] = matrix['m8']/matrix['m6'] \n",
    "#不同用户不同商家购买点击比\n",
    "matrix['r3'] = matrix['um7']/matrix['um5']\n",
    "matrix.fillna(0, inplace=True)\n",
    "# # 修改age_range字段名称为 age_0, age_1, age_2... age_8\n",
    "temp = pd.get_dummies(matrix['age_range'], prefix='age')\n",
    "matrix = pd.concat([matrix, temp], axis=1)\n",
    "temp = pd.get_dummies(matrix['gender'], prefix='g')\n",
    "matrix = pd.concat([matrix, temp], axis=1)\n",
    "matrix.drop(['age_range', 'gender'], axis=1, inplace=True)\n",
    "# print(matrix)"
   ]
  },
  {
   "cell_type": "markdown",
   "metadata": {},
   "source": [
    "## 数据集分割"
   ]
  },
  {
   "cell_type": "code",
   "execution_count": 47,
   "metadata": {
    "ExecuteTime": {
     "end_time": "2021-02-27T08:17:03.960995Z",
     "start_time": "2021-02-27T08:17:02.989194Z"
    }
   },
   "outputs": [
    {
     "data": {
      "text/plain": [
       "20"
      ]
     },
     "execution_count": 47,
     "metadata": {},
     "output_type": "execute_result"
    }
   ],
   "source": [
    "# 分割训练数据和测试数据\n",
    "train_data = matrix[matrix['origin'] == 'train'].drop(['origin'], axis=1)\n",
    "test_data = matrix[matrix['origin'] == 'test'].drop(['label', 'origin'], axis=1)\n",
    "train_X, train_y = train_data.drop(['label'], axis=1), train_data['label']\n",
    "del temp, matrix\n",
    "gc.collect()"
   ]
  },
  {
   "cell_type": "markdown",
   "metadata": {},
   "source": [
    "# 建立模型"
   ]
  },
  {
   "cell_type": "code",
   "execution_count": 14,
   "metadata": {
    "ExecuteTime": {
     "end_time": "2021-02-27T07:48:16.192338Z",
     "start_time": "2021-02-27T07:48:14.674752Z"
    }
   },
   "outputs": [],
   "source": [
    "from sklearn.model_selection import train_test_split, GridSearchCV\n",
    "from sklearn.metrics import classification_report\n",
    "import lightgbm as lgb\n",
    "import xgboost as xgb"
   ]
  },
  {
   "cell_type": "code",
   "execution_count": 48,
   "metadata": {
    "ExecuteTime": {
     "end_time": "2021-02-27T08:17:04.326060Z",
     "start_time": "2021-02-27T08:17:04.163370Z"
    }
   },
   "outputs": [],
   "source": [
    "# 将训练集进行切分，20%用于验证\n",
    "X_train, X_valid, y_train, y_valid = train_test_split(train_X, train_y, test_size=.2)"
   ]
  },
  {
   "cell_type": "markdown",
   "metadata": {},
   "source": [
    "## XGBoost  \n",
    "2021.2.26最佳参数\n",
    "\n",
    "```python\n",
    "model = xgb.XGBClassifier(\n",
    "    max_depth=10,\n",
    "    n_estimators=1000,\n",
    "    min_child_weight=290, \n",
    "    colsample_bytree=0.8, \n",
    "    subsample=0.8, \n",
    "    eta=0.1,    \n",
    "    seed=42)  \n",
    "early_stopping_rounds=10\n",
    "```\n",
    "\n",
    "auc = 0.68017"
   ]
  },
  {
   "cell_type": "code",
   "execution_count": 19,
   "metadata": {
    "ExecuteTime": {
     "end_time": "2021-02-27T07:50:47.680542Z",
     "start_time": "2021-02-27T07:50:47.676338Z"
    }
   },
   "outputs": [],
   "source": [
    "# 使用XGBoost\n",
    "model_xgb = xgb.XGBClassifier(\n",
    "    max_depth=3,\n",
    "    n_estimators=500,\n",
    "    min_child_weight=290, \n",
    "    colsample_bytree=0.8, \n",
    "    subsample=0.8, \n",
    "    eta=0.1,    \n",
    "    seed=42    \n",
    ")"
   ]
  },
  {
   "cell_type": "markdown",
   "metadata": {},
   "source": [
    "max_depth调参结束3，接下来是subsample调参"
   ]
  },
  {
   "cell_type": "code",
   "execution_count": 18,
   "metadata": {
    "ExecuteTime": {
     "end_time": "2021-02-27T07:50:19.504123Z",
     "start_time": "2021-02-27T07:50:19.500643Z"
    }
   },
   "outputs": [],
   "source": [
    "params_test1={\n",
    "    'subsample':[0.7,0.8,0.9,1]\n",
    "}"
   ]
  },
  {
   "cell_type": "code",
   "execution_count": 20,
   "metadata": {
    "ExecuteTime": {
     "end_time": "2021-02-27T07:51:24.177490Z",
     "start_time": "2021-02-27T07:50:53.787737Z"
    },
    "scrolled": true
   },
   "outputs": [
    {
     "name": "stdout",
     "output_type": "stream",
     "text": [
      "Fitting 5 folds for each of 4 candidates, totalling 20 fits\n"
     ]
    },
    {
     "name": "stderr",
     "output_type": "stream",
     "text": [
      "[Parallel(n_jobs=4)]: Using backend LokyBackend with 4 concurrent workers.\n",
      "[Parallel(n_jobs=4)]: Done  20 out of  20 | elapsed:   27.3s finished\n",
      "C:\\Users\\kinga\\Anaconda3\\envs\\rs\\lib\\site-packages\\xgboost\\sklearn.py:892: UserWarning: The use of label encoder in XGBClassifier is deprecated and will be removed in a future release. To remove this warning, do the following: 1) Pass option use_label_encoder=False when constructing XGBClassifier object; and 2) Encode your labels (y) as integers starting with 0, i.e. 0, 1, 2, ..., [num_class - 1].\n",
      "  warnings.warn(label_encoder_deprecation_msg, UserWarning)\n"
     ]
    },
    {
     "name": "stdout",
     "output_type": "stream",
     "text": [
      "[15:51:22] WARNING: C:/Users/Administrator/workspace/xgboost-win64_release_1.3.0/src/learner.cc:1061: Starting in XGBoost 1.3.0, the default evaluation metric used with the objective 'binary:logistic' was changed from 'error' to 'logloss'. Explicitly set eval_metric if you'd like to restore the old behavior.\n"
     ]
    },
    {
     "data": {
      "text/plain": [
       "GridSearchCV(cv=5, error_score=nan,\n",
       "             estimator=XGBClassifier(base_score=None, booster=None,\n",
       "                                     colsample_bylevel=None,\n",
       "                                     colsample_bynode=None,\n",
       "                                     colsample_bytree=0.8, eta=0.1, gamma=None,\n",
       "                                     gpu_id=None, importance_type='gain',\n",
       "                                     interaction_constraints=None,\n",
       "                                     learning_rate=None, max_delta_step=None,\n",
       "                                     max_depth=3, min_child_weight=290,\n",
       "                                     missing=nan, monotone_constraints=None,\n",
       "                                     n_es...\n",
       "                                     objective='binary:logistic',\n",
       "                                     random_state=None, reg_alpha=None,\n",
       "                                     reg_lambda=None, scale_pos_weight=None,\n",
       "                                     seed=42, subsample=0.8, tree_method=None,\n",
       "                                     use_label_encoder=True,\n",
       "                                     validate_parameters=None, verbosity=None),\n",
       "             iid='deprecated', n_jobs=4,\n",
       "             param_grid={'subsample': [0.7, 0.8, 0.9, 1]},\n",
       "             pre_dispatch='2*n_jobs', refit=True, return_train_score=False,\n",
       "             scoring='roc_auc', verbose=1)"
      ]
     },
     "execution_count": 20,
     "metadata": {},
     "output_type": "execute_result"
    }
   ],
   "source": [
    "gsearch1 = GridSearchCV(estimator=model_xgb, param_grid=params_test1, scoring='roc_auc', cv=5, verbose=1, n_jobs=4)\n",
    "gsearch1.fit(X_train, y_train)"
   ]
  },
  {
   "cell_type": "code",
   "execution_count": 21,
   "metadata": {
    "ExecuteTime": {
     "end_time": "2021-02-27T07:51:33.846446Z",
     "start_time": "2021-02-27T07:51:33.836859Z"
    }
   },
   "outputs": [
    {
     "data": {
      "text/plain": [
       "({'mean_fit_time': array([4.86663132, 3.88971047, 4.19095802, 5.32379699]),\n",
       "  'std_fit_time': array([0.42215228, 0.22381896, 0.09027709, 0.30208092]),\n",
       "  'mean_score_time': array([0.02354546, 0.02453432, 0.01874804, 0.0188683 ]),\n",
       "  'std_score_time': array([0.00617491, 0.00319117, 0.00364535, 0.00347876]),\n",
       "  'param_subsample': masked_array(data=[0.7, 0.8, 0.9, 1],\n",
       "               mask=[False, False, False, False],\n",
       "         fill_value='?',\n",
       "              dtype=object),\n",
       "  'params': [{'subsample': 0.7},\n",
       "   {'subsample': 0.8},\n",
       "   {'subsample': 0.9},\n",
       "   {'subsample': 1}],\n",
       "  'split0_test_score': array([0.62254175, 0.628114  , 0.6256525 , 0.63473436]),\n",
       "  'split1_test_score': array([0.62476588, 0.62913285, 0.63772371, 0.64146962]),\n",
       "  'split2_test_score': array([0.62933662, 0.63269883, 0.63140901, 0.63030453]),\n",
       "  'split3_test_score': array([0.61128192, 0.61416347, 0.61940696, 0.62570368]),\n",
       "  'split4_test_score': array([0.61388605, 0.62112801, 0.61703157, 0.62680209]),\n",
       "  'mean_test_score': array([0.62036244, 0.62504743, 0.62624475, 0.63180285]),\n",
       "  'std_test_score': array([0.00676868, 0.00661001, 0.00762135, 0.00577049]),\n",
       "  'rank_test_score': array([4, 3, 2, 1])},\n",
       " {'subsample': 1},\n",
       " 0.6318028542700221)"
      ]
     },
     "execution_count": 21,
     "metadata": {},
     "output_type": "execute_result"
    }
   ],
   "source": [
    "gsearch1.cv_results_, gsearch1.best_params_, gsearch1.best_score_"
   ]
  },
  {
   "cell_type": "markdown",
   "metadata": {},
   "source": [
    "min_child_weight调参"
   ]
  },
  {
   "cell_type": "code",
   "execution_count": 22,
   "metadata": {
    "ExecuteTime": {
     "end_time": "2021-02-27T07:52:13.705816Z",
     "start_time": "2021-02-27T07:52:13.701261Z"
    }
   },
   "outputs": [],
   "source": [
    "# 使用XGBoost\n",
    "model_xgb = xgb.XGBClassifier(\n",
    "    max_depth=3,\n",
    "    n_estimators=500,\n",
    "    min_child_weight=290, \n",
    "    colsample_bytree=0.8, \n",
    "    subsample=1, \n",
    "    eta=0.1,    \n",
    "    seed=42    \n",
    ")"
   ]
  },
  {
   "cell_type": "code",
   "execution_count": 26,
   "metadata": {
    "ExecuteTime": {
     "end_time": "2021-02-27T07:56:22.239778Z",
     "start_time": "2021-02-27T07:56:22.235899Z"
    }
   },
   "outputs": [],
   "source": [
    "params_test2={\n",
    "    'min_child_weight':range(100, 200, 10)\n",
    "}"
   ]
  },
  {
   "cell_type": "code",
   "execution_count": 27,
   "metadata": {
    "ExecuteTime": {
     "end_time": "2021-02-27T07:57:45.761335Z",
     "start_time": "2021-02-27T07:56:25.556784Z"
    }
   },
   "outputs": [
    {
     "name": "stdout",
     "output_type": "stream",
     "text": [
      "Fitting 5 folds for each of 10 candidates, totalling 50 fits\n"
     ]
    },
    {
     "name": "stderr",
     "output_type": "stream",
     "text": [
      "[Parallel(n_jobs=4)]: Using backend LokyBackend with 4 concurrent workers.\n",
      "[Parallel(n_jobs=4)]: Done  42 tasks      | elapsed:  1.2min\n",
      "[Parallel(n_jobs=4)]: Done  50 out of  50 | elapsed:  1.3min finished\n",
      "C:\\Users\\kinga\\Anaconda3\\envs\\rs\\lib\\site-packages\\xgboost\\sklearn.py:892: UserWarning: The use of label encoder in XGBClassifier is deprecated and will be removed in a future release. To remove this warning, do the following: 1) Pass option use_label_encoder=False when constructing XGBClassifier object; and 2) Encode your labels (y) as integers starting with 0, i.e. 0, 1, 2, ..., [num_class - 1].\n",
      "  warnings.warn(label_encoder_deprecation_msg, UserWarning)\n"
     ]
    },
    {
     "name": "stdout",
     "output_type": "stream",
     "text": [
      "[15:57:43] WARNING: C:/Users/Administrator/workspace/xgboost-win64_release_1.3.0/src/learner.cc:1061: Starting in XGBoost 1.3.0, the default evaluation metric used with the objective 'binary:logistic' was changed from 'error' to 'logloss'. Explicitly set eval_metric if you'd like to restore the old behavior.\n"
     ]
    },
    {
     "data": {
      "text/plain": [
       "GridSearchCV(cv=5, error_score=nan,\n",
       "             estimator=XGBClassifier(base_score=None, booster=None,\n",
       "                                     colsample_bylevel=None,\n",
       "                                     colsample_bynode=None,\n",
       "                                     colsample_bytree=0.8, eta=0.1, gamma=None,\n",
       "                                     gpu_id=None, importance_type='gain',\n",
       "                                     interaction_constraints=None,\n",
       "                                     learning_rate=None, max_delta_step=None,\n",
       "                                     max_depth=3, min_child_weight=290,\n",
       "                                     missing=nan, monotone_constraints=None,\n",
       "                                     n_es...\n",
       "                                     objective='binary:logistic',\n",
       "                                     random_state=None, reg_alpha=None,\n",
       "                                     reg_lambda=None, scale_pos_weight=None,\n",
       "                                     seed=42, subsample=1, tree_method=None,\n",
       "                                     use_label_encoder=True,\n",
       "                                     validate_parameters=None, verbosity=None),\n",
       "             iid='deprecated', n_jobs=4,\n",
       "             param_grid={'min_child_weight': range(100, 200, 10)},\n",
       "             pre_dispatch='2*n_jobs', refit=True, return_train_score=False,\n",
       "             scoring='roc_auc', verbose=1)"
      ]
     },
     "execution_count": 27,
     "metadata": {},
     "output_type": "execute_result"
    }
   ],
   "source": [
    "gsearch2 = GridSearchCV(estimator=model_xgb, param_grid=params_test2, scoring='roc_auc', cv=5, verbose=1, n_jobs=4)\n",
    "gsearch2.fit(X_train, y_train)"
   ]
  },
  {
   "cell_type": "code",
   "execution_count": 28,
   "metadata": {
    "ExecuteTime": {
     "end_time": "2021-02-27T07:57:50.318646Z",
     "start_time": "2021-02-27T07:57:50.308629Z"
    },
    "scrolled": true
   },
   "outputs": [
    {
     "data": {
      "text/plain": [
       "({'mean_fit_time': array([6.29562535, 6.3831605 , 6.30154533, 6.16031704, 6.20105157,\n",
       "         6.11161714, 7.01683083, 6.19802251, 5.67244697, 4.29013429]),\n",
       "  'std_fit_time': array([0.01927221, 0.15747119, 0.06370674, 0.03590925, 0.02956762,\n",
       "         0.04733454, 0.75121876, 0.55756497, 0.03381765, 1.19850434]),\n",
       "  'mean_score_time': array([0.03370099, 0.03227286, 0.02875891, 0.03073854, 0.03168125,\n",
       "         0.02964921, 0.02313452, 0.0191565 , 0.01875739, 0.0197701 ]),\n",
       "  'std_score_time': array([0.00640344, 0.00603962, 0.00701094, 0.00531106, 0.00544394,\n",
       "         0.00792225, 0.00204617, 0.00116194, 0.00031725, 0.00392234]),\n",
       "  'param_min_child_weight': masked_array(data=[100, 110, 120, 130, 140, 150, 160, 170, 180, 190],\n",
       "               mask=[False, False, False, False, False, False, False, False,\n",
       "                     False, False],\n",
       "         fill_value='?',\n",
       "              dtype=object),\n",
       "  'params': [{'min_child_weight': 100},\n",
       "   {'min_child_weight': 110},\n",
       "   {'min_child_weight': 120},\n",
       "   {'min_child_weight': 130},\n",
       "   {'min_child_weight': 140},\n",
       "   {'min_child_weight': 150},\n",
       "   {'min_child_weight': 160},\n",
       "   {'min_child_weight': 170},\n",
       "   {'min_child_weight': 180},\n",
       "   {'min_child_weight': 190}],\n",
       "  'split0_test_score': array([0.63991641, 0.64407311, 0.65306392, 0.64770737, 0.64406118,\n",
       "         0.64755346, 0.64594714, 0.63860058, 0.64217306, 0.64138399]),\n",
       "  'split1_test_score': array([0.65648033, 0.66084621, 0.66533782, 0.65677948, 0.65765309,\n",
       "         0.65651935, 0.65698758, 0.65651284, 0.65514715, 0.65755987]),\n",
       "  'split2_test_score': array([0.62109585, 0.61356719, 0.6156916 , 0.62352375, 0.62332865,\n",
       "         0.62296338, 0.62618685, 0.62314981, 0.6232582 , 0.62426838]),\n",
       "  'split3_test_score': array([0.62916736, 0.63413057, 0.63853967, 0.63487224, 0.62756973,\n",
       "         0.62988101, 0.63520643, 0.63512019, 0.6317352 , 0.63042649]),\n",
       "  'split4_test_score': array([0.64837617, 0.65390387, 0.65368918, 0.65139483, 0.65410989,\n",
       "         0.65342028, 0.64934552, 0.6469319 , 0.64655023, 0.6425015 ]),\n",
       "  'mean_test_score': array([0.63900722, 0.64130419, 0.64526444, 0.64285553, 0.64134451,\n",
       "         0.64206749, 0.64273471, 0.64006306, 0.63977277, 0.63922804]),\n",
       "  'std_test_score': array([0.01274012, 0.01654758, 0.01705593, 0.01206472, 0.01378855,\n",
       "         0.01327641, 0.01084134, 0.01122858, 0.01118392, 0.01142522]),\n",
       "  'rank_test_score': array([10,  6,  1,  2,  5,  4,  3,  7,  8,  9])},\n",
       " {'min_child_weight': 120},\n",
       " 0.6452644410224554)"
      ]
     },
     "execution_count": 28,
     "metadata": {},
     "output_type": "execute_result"
    }
   ],
   "source": [
    "gsearch2.cv_results_, gsearch2.best_params_, gsearch2.best_score_"
   ]
  },
  {
   "cell_type": "markdown",
   "metadata": {},
   "source": [
    "调参colsample_bytree"
   ]
  },
  {
   "cell_type": "code",
   "execution_count": 29,
   "metadata": {
    "ExecuteTime": {
     "end_time": "2021-02-27T07:58:36.464498Z",
     "start_time": "2021-02-27T07:58:36.460520Z"
    }
   },
   "outputs": [],
   "source": [
    "# 使用XGBoost\n",
    "model_xgb = xgb.XGBClassifier(\n",
    "    max_depth=3,\n",
    "    n_estimators=500,\n",
    "    min_child_weight=120, \n",
    "    colsample_bytree=0.8, \n",
    "    subsample=1, \n",
    "    eta=0.1,    \n",
    "    seed=42    \n",
    ")"
   ]
  },
  {
   "cell_type": "code",
   "execution_count": 30,
   "metadata": {
    "ExecuteTime": {
     "end_time": "2021-02-27T07:59:19.991844Z",
     "start_time": "2021-02-27T07:59:19.987851Z"
    }
   },
   "outputs": [],
   "source": [
    "params_test3={\n",
    "    'colsample_tytree':[0.5,0.6,0.7,0.8,0.9,1.0]\n",
    "}"
   ]
  },
  {
   "cell_type": "code",
   "execution_count": 31,
   "metadata": {
    "ExecuteTime": {
     "end_time": "2021-02-27T08:00:37.932807Z",
     "start_time": "2021-02-27T07:59:45.236018Z"
    }
   },
   "outputs": [
    {
     "name": "stdout",
     "output_type": "stream",
     "text": [
      "Fitting 5 folds for each of 6 candidates, totalling 30 fits\n"
     ]
    },
    {
     "name": "stderr",
     "output_type": "stream",
     "text": [
      "[Parallel(n_jobs=4)]: Using backend LokyBackend with 4 concurrent workers.\n",
      "[Parallel(n_jobs=4)]: Done  30 out of  30 | elapsed:   50.3s finished\n",
      "C:\\Users\\kinga\\Anaconda3\\envs\\rs\\lib\\site-packages\\xgboost\\sklearn.py:892: UserWarning: The use of label encoder in XGBClassifier is deprecated and will be removed in a future release. To remove this warning, do the following: 1) Pass option use_label_encoder=False when constructing XGBClassifier object; and 2) Encode your labels (y) as integers starting with 0, i.e. 0, 1, 2, ..., [num_class - 1].\n",
      "  warnings.warn(label_encoder_deprecation_msg, UserWarning)\n"
     ]
    },
    {
     "name": "stdout",
     "output_type": "stream",
     "text": [
      "[16:00:35] WARNING: C:/Users/Administrator/workspace/xgboost-win64_release_1.3.0/src/learner.cc:541: \n",
      "Parameters: { colsample_tytree } might not be used.\n",
      "\n",
      "  This may not be accurate due to some parameters are only used in language bindings but\n",
      "  passed down to XGBoost core.  Or some parameters are not used but slip through this\n",
      "  verification. Please open an issue if you find above cases.\n",
      "\n",
      "\n",
      "[16:00:35] WARNING: C:/Users/Administrator/workspace/xgboost-win64_release_1.3.0/src/learner.cc:1061: Starting in XGBoost 1.3.0, the default evaluation metric used with the objective 'binary:logistic' was changed from 'error' to 'logloss'. Explicitly set eval_metric if you'd like to restore the old behavior.\n"
     ]
    },
    {
     "data": {
      "text/plain": [
       "GridSearchCV(cv=5, error_score=nan,\n",
       "             estimator=XGBClassifier(base_score=None, booster=None,\n",
       "                                     colsample_bylevel=None,\n",
       "                                     colsample_bynode=None,\n",
       "                                     colsample_bytree=0.8, eta=0.1, gamma=None,\n",
       "                                     gpu_id=None, importance_type='gain',\n",
       "                                     interaction_constraints=None,\n",
       "                                     learning_rate=None, max_delta_step=None,\n",
       "                                     max_depth=3, min_child_weight=120,\n",
       "                                     missing=nan, monotone_constraints=None,\n",
       "                                     n_es...\n",
       "                                     objective='binary:logistic',\n",
       "                                     random_state=None, reg_alpha=None,\n",
       "                                     reg_lambda=None, scale_pos_weight=None,\n",
       "                                     seed=42, subsample=1, tree_method=None,\n",
       "                                     use_label_encoder=True,\n",
       "                                     validate_parameters=None, verbosity=None),\n",
       "             iid='deprecated', n_jobs=4,\n",
       "             param_grid={'colsample_tytree': [0.5, 0.6, 0.7, 0.8, 0.9, 1.0]},\n",
       "             pre_dispatch='2*n_jobs', refit=True, return_train_score=False,\n",
       "             scoring='roc_auc', verbose=1)"
      ]
     },
     "execution_count": 31,
     "metadata": {},
     "output_type": "execute_result"
    }
   ],
   "source": [
    "gsearch3 = GridSearchCV(estimator=model_xgb, param_grid=params_test3, scoring='roc_auc', cv=5, verbose=1, n_jobs=4)\n",
    "gsearch3.fit(X_train, y_train)"
   ]
  },
  {
   "cell_type": "code",
   "execution_count": 32,
   "metadata": {
    "ExecuteTime": {
     "end_time": "2021-02-27T08:00:38.040760Z",
     "start_time": "2021-02-27T08:00:38.032783Z"
    },
    "scrolled": true
   },
   "outputs": [
    {
     "data": {
      "text/plain": [
       "({'mean_fit_time': array([6.59035459, 7.04970956, 6.99553509, 6.62949824, 6.27803755,\n",
       "         5.04175916]),\n",
       "  'std_fit_time': array([0.23513875, 0.0667935 , 0.03396871, 0.19329766, 0.0425037 ,\n",
       "         1.46339138]),\n",
       "  'mean_score_time': array([0.03748903, 0.02709174, 0.02926259, 0.02585964, 0.02932558,\n",
       "         0.02508755]),\n",
       "  'std_score_time': array([0.01007138, 0.00157979, 0.00620316, 0.00373957, 0.00383695,\n",
       "         0.00322089]),\n",
       "  'param_colsample_tytree': masked_array(data=[0.5, 0.6, 0.7, 0.8, 0.9, 1.0],\n",
       "               mask=[False, False, False, False, False, False],\n",
       "         fill_value='?',\n",
       "              dtype=object),\n",
       "  'params': [{'colsample_tytree': 0.5},\n",
       "   {'colsample_tytree': 0.6},\n",
       "   {'colsample_tytree': 0.7},\n",
       "   {'colsample_tytree': 0.8},\n",
       "   {'colsample_tytree': 0.9},\n",
       "   {'colsample_tytree': 1.0}],\n",
       "  'split0_test_score': array([0.65306392, 0.65306392, 0.65306392, 0.65306392, 0.65306392,\n",
       "         0.65306392]),\n",
       "  'split1_test_score': array([0.66533782, 0.66533782, 0.66533782, 0.66533782, 0.66533782,\n",
       "         0.66533782]),\n",
       "  'split2_test_score': array([0.6156916, 0.6156916, 0.6156916, 0.6156916, 0.6156916, 0.6156916]),\n",
       "  'split3_test_score': array([0.63853967, 0.63853967, 0.63853967, 0.63853967, 0.63853967,\n",
       "         0.63853967]),\n",
       "  'split4_test_score': array([0.65368918, 0.65368918, 0.65368918, 0.65368918, 0.65368918,\n",
       "         0.65368918]),\n",
       "  'mean_test_score': array([0.64526444, 0.64526444, 0.64526444, 0.64526444, 0.64526444,\n",
       "         0.64526444]),\n",
       "  'std_test_score': array([0.01705593, 0.01705593, 0.01705593, 0.01705593, 0.01705593,\n",
       "         0.01705593]),\n",
       "  'rank_test_score': array([1, 1, 1, 1, 1, 1])},\n",
       " {'colsample_tytree': 0.5},\n",
       " 0.6452644410224554)"
      ]
     },
     "execution_count": 32,
     "metadata": {},
     "output_type": "execute_result"
    }
   ],
   "source": [
    "gsearch3.cv_results_, gsearch3.best_params_, gsearch3.best_score_"
   ]
  },
  {
   "cell_type": "markdown",
   "metadata": {},
   "source": [
    "缩小eta"
   ]
  },
  {
   "cell_type": "code",
   "execution_count": 49,
   "metadata": {
    "ExecuteTime": {
     "end_time": "2021-02-27T08:18:02.790233Z",
     "start_time": "2021-02-27T08:18:02.787223Z"
    }
   },
   "outputs": [],
   "source": [
    "# 使用XGBoost\n",
    "model_xgb = xgb.XGBClassifier(\n",
    "    max_depth=3,\n",
    "    n_estimators=500,\n",
    "    min_child_weight=120, \n",
    "    colsample_bytree=0.5, \n",
    "    subsample=1, \n",
    "    eta=0.05,    \n",
    "    seed=42    \n",
    ")"
   ]
  },
  {
   "cell_type": "code",
   "execution_count": 50,
   "metadata": {
    "ExecuteTime": {
     "end_time": "2021-02-27T08:18:56.574440Z",
     "start_time": "2021-02-27T08:18:21.043966Z"
    },
    "scrolled": true
   },
   "outputs": [
    {
     "name": "stderr",
     "output_type": "stream",
     "text": [
      "C:\\Users\\kinga\\Anaconda3\\envs\\rs\\lib\\site-packages\\xgboost\\sklearn.py:892: UserWarning: The use of label encoder in XGBClassifier is deprecated and will be removed in a future release. To remove this warning, do the following: 1) Pass option use_label_encoder=False when constructing XGBClassifier object; and 2) Encode your labels (y) as integers starting with 0, i.e. 0, 1, 2, ..., [num_class - 1].\n",
      "  warnings.warn(label_encoder_deprecation_msg, UserWarning)\n"
     ]
    },
    {
     "name": "stdout",
     "output_type": "stream",
     "text": [
      "[0]\tvalidation_0-auc:0.62777\tvalidation_1-auc:0.62326\n",
      "[1]\tvalidation_0-auc:0.63643\tvalidation_1-auc:0.63050\n",
      "[2]\tvalidation_0-auc:0.63692\tvalidation_1-auc:0.63130\n",
      "[3]\tvalidation_0-auc:0.65414\tvalidation_1-auc:0.65068\n",
      "[4]\tvalidation_0-auc:0.65502\tvalidation_1-auc:0.65152\n",
      "[5]\tvalidation_0-auc:0.65521\tvalidation_1-auc:0.65200\n",
      "[6]\tvalidation_0-auc:0.65514\tvalidation_1-auc:0.65180\n",
      "[7]\tvalidation_0-auc:0.65606\tvalidation_1-auc:0.65310\n",
      "[8]\tvalidation_0-auc:0.65974\tvalidation_1-auc:0.65725\n",
      "[9]\tvalidation_0-auc:0.65905\tvalidation_1-auc:0.65653\n",
      "[10]\tvalidation_0-auc:0.66161\tvalidation_1-auc:0.65711\n",
      "[11]\tvalidation_0-auc:0.66238\tvalidation_1-auc:0.65763\n",
      "[12]\tvalidation_0-auc:0.66294\tvalidation_1-auc:0.65858\n",
      "[13]\tvalidation_0-auc:0.66289\tvalidation_1-auc:0.65861\n",
      "[14]\tvalidation_0-auc:0.66285\tvalidation_1-auc:0.65849\n",
      "[15]\tvalidation_0-auc:0.66246\tvalidation_1-auc:0.65860\n",
      "[16]\tvalidation_0-auc:0.66299\tvalidation_1-auc:0.65889\n",
      "[17]\tvalidation_0-auc:0.66372\tvalidation_1-auc:0.65873\n",
      "[18]\tvalidation_0-auc:0.66473\tvalidation_1-auc:0.65944\n",
      "[19]\tvalidation_0-auc:0.66384\tvalidation_1-auc:0.65793\n",
      "[20]\tvalidation_0-auc:0.66365\tvalidation_1-auc:0.65779\n",
      "[21]\tvalidation_0-auc:0.66342\tvalidation_1-auc:0.65728\n",
      "[22]\tvalidation_0-auc:0.66455\tvalidation_1-auc:0.65837\n",
      "[23]\tvalidation_0-auc:0.66515\tvalidation_1-auc:0.65911\n",
      "[24]\tvalidation_0-auc:0.66546\tvalidation_1-auc:0.65969\n",
      "[25]\tvalidation_0-auc:0.66817\tvalidation_1-auc:0.66190\n",
      "[26]\tvalidation_0-auc:0.66919\tvalidation_1-auc:0.66291\n",
      "[27]\tvalidation_0-auc:0.66970\tvalidation_1-auc:0.66365\n",
      "[28]\tvalidation_0-auc:0.67255\tvalidation_1-auc:0.66624\n",
      "[29]\tvalidation_0-auc:0.67305\tvalidation_1-auc:0.66696\n",
      "[30]\tvalidation_0-auc:0.67284\tvalidation_1-auc:0.66680\n",
      "[31]\tvalidation_0-auc:0.67328\tvalidation_1-auc:0.66682\n",
      "[32]\tvalidation_0-auc:0.67349\tvalidation_1-auc:0.66741\n",
      "[33]\tvalidation_0-auc:0.67374\tvalidation_1-auc:0.66770\n",
      "[34]\tvalidation_0-auc:0.67360\tvalidation_1-auc:0.66779\n",
      "[35]\tvalidation_0-auc:0.67356\tvalidation_1-auc:0.66758\n",
      "[36]\tvalidation_0-auc:0.67378\tvalidation_1-auc:0.66801\n",
      "[37]\tvalidation_0-auc:0.67393\tvalidation_1-auc:0.66837\n",
      "[38]\tvalidation_0-auc:0.67427\tvalidation_1-auc:0.66880\n",
      "[39]\tvalidation_0-auc:0.67451\tvalidation_1-auc:0.66914\n",
      "[40]\tvalidation_0-auc:0.67452\tvalidation_1-auc:0.66956\n",
      "[41]\tvalidation_0-auc:0.67449\tvalidation_1-auc:0.66974\n",
      "[42]\tvalidation_0-auc:0.67470\tvalidation_1-auc:0.67005\n",
      "[43]\tvalidation_0-auc:0.67477\tvalidation_1-auc:0.67004\n",
      "[44]\tvalidation_0-auc:0.67622\tvalidation_1-auc:0.67132\n",
      "[45]\tvalidation_0-auc:0.67618\tvalidation_1-auc:0.67116\n",
      "[46]\tvalidation_0-auc:0.67747\tvalidation_1-auc:0.67233\n",
      "[47]\tvalidation_0-auc:0.67929\tvalidation_1-auc:0.67413\n",
      "[48]\tvalidation_0-auc:0.67916\tvalidation_1-auc:0.67390\n",
      "[49]\tvalidation_0-auc:0.68027\tvalidation_1-auc:0.67482\n",
      "[50]\tvalidation_0-auc:0.68034\tvalidation_1-auc:0.67466\n",
      "[51]\tvalidation_0-auc:0.68102\tvalidation_1-auc:0.67534\n",
      "[52]\tvalidation_0-auc:0.68103\tvalidation_1-auc:0.67522\n",
      "[53]\tvalidation_0-auc:0.68089\tvalidation_1-auc:0.67494\n",
      "[54]\tvalidation_0-auc:0.68085\tvalidation_1-auc:0.67491\n",
      "[55]\tvalidation_0-auc:0.68337\tvalidation_1-auc:0.67700\n",
      "[56]\tvalidation_0-auc:0.68383\tvalidation_1-auc:0.67722\n",
      "[57]\tvalidation_0-auc:0.68372\tvalidation_1-auc:0.67708\n",
      "[58]\tvalidation_0-auc:0.68427\tvalidation_1-auc:0.67789\n",
      "[59]\tvalidation_0-auc:0.68428\tvalidation_1-auc:0.67797\n",
      "[60]\tvalidation_0-auc:0.68493\tvalidation_1-auc:0.67864\n",
      "[61]\tvalidation_0-auc:0.68571\tvalidation_1-auc:0.67902\n",
      "[62]\tvalidation_0-auc:0.68578\tvalidation_1-auc:0.67892\n",
      "[63]\tvalidation_0-auc:0.68679\tvalidation_1-auc:0.67962\n",
      "[64]\tvalidation_0-auc:0.68666\tvalidation_1-auc:0.67953\n",
      "[65]\tvalidation_0-auc:0.68667\tvalidation_1-auc:0.67965\n",
      "[66]\tvalidation_0-auc:0.68685\tvalidation_1-auc:0.67977\n",
      "[67]\tvalidation_0-auc:0.68685\tvalidation_1-auc:0.67967\n",
      "[68]\tvalidation_0-auc:0.68712\tvalidation_1-auc:0.67985\n",
      "[69]\tvalidation_0-auc:0.68720\tvalidation_1-auc:0.67992\n",
      "[70]\tvalidation_0-auc:0.68720\tvalidation_1-auc:0.68004\n",
      "[71]\tvalidation_0-auc:0.68722\tvalidation_1-auc:0.68002\n",
      "[72]\tvalidation_0-auc:0.68799\tvalidation_1-auc:0.68083\n",
      "[73]\tvalidation_0-auc:0.68826\tvalidation_1-auc:0.68095\n",
      "[74]\tvalidation_0-auc:0.68826\tvalidation_1-auc:0.68090\n",
      "[75]\tvalidation_0-auc:0.68828\tvalidation_1-auc:0.68081\n",
      "[76]\tvalidation_0-auc:0.68878\tvalidation_1-auc:0.68142\n",
      "[77]\tvalidation_0-auc:0.69009\tvalidation_1-auc:0.68258\n",
      "[78]\tvalidation_0-auc:0.69102\tvalidation_1-auc:0.68370\n",
      "[79]\tvalidation_0-auc:0.69164\tvalidation_1-auc:0.68416\n",
      "[80]\tvalidation_0-auc:0.69252\tvalidation_1-auc:0.68492\n",
      "[81]\tvalidation_0-auc:0.69266\tvalidation_1-auc:0.68521\n",
      "[82]\tvalidation_0-auc:0.69295\tvalidation_1-auc:0.68539\n",
      "[83]\tvalidation_0-auc:0.69306\tvalidation_1-auc:0.68552\n",
      "[84]\tvalidation_0-auc:0.69338\tvalidation_1-auc:0.68575\n",
      "[85]\tvalidation_0-auc:0.69362\tvalidation_1-auc:0.68590\n",
      "[86]\tvalidation_0-auc:0.69375\tvalidation_1-auc:0.68609\n",
      "[87]\tvalidation_0-auc:0.69366\tvalidation_1-auc:0.68606\n",
      "[88]\tvalidation_0-auc:0.69398\tvalidation_1-auc:0.68626\n",
      "[89]\tvalidation_0-auc:0.69408\tvalidation_1-auc:0.68632\n",
      "[90]\tvalidation_0-auc:0.69453\tvalidation_1-auc:0.68688\n",
      "[91]\tvalidation_0-auc:0.69518\tvalidation_1-auc:0.68746\n",
      "[92]\tvalidation_0-auc:0.69536\tvalidation_1-auc:0.68762\n",
      "[93]\tvalidation_0-auc:0.69556\tvalidation_1-auc:0.68777\n",
      "[94]\tvalidation_0-auc:0.69631\tvalidation_1-auc:0.68839\n",
      "[95]\tvalidation_0-auc:0.69734\tvalidation_1-auc:0.68933\n",
      "[96]\tvalidation_0-auc:0.69760\tvalidation_1-auc:0.68945\n",
      "[97]\tvalidation_0-auc:0.69783\tvalidation_1-auc:0.68966\n",
      "[98]\tvalidation_0-auc:0.69799\tvalidation_1-auc:0.68981\n",
      "[99]\tvalidation_0-auc:0.69881\tvalidation_1-auc:0.69049\n",
      "[100]\tvalidation_0-auc:0.69909\tvalidation_1-auc:0.69068\n",
      "[101]\tvalidation_0-auc:0.69931\tvalidation_1-auc:0.69091\n",
      "[102]\tvalidation_0-auc:0.69978\tvalidation_1-auc:0.69133\n",
      "[103]\tvalidation_0-auc:0.69994\tvalidation_1-auc:0.69132\n",
      "[104]\tvalidation_0-auc:0.70028\tvalidation_1-auc:0.69176\n",
      "[105]\tvalidation_0-auc:0.70050\tvalidation_1-auc:0.69193\n",
      "[106]\tvalidation_0-auc:0.70072\tvalidation_1-auc:0.69216\n",
      "[107]\tvalidation_0-auc:0.70081\tvalidation_1-auc:0.69212\n",
      "[108]\tvalidation_0-auc:0.70106\tvalidation_1-auc:0.69246\n",
      "[109]\tvalidation_0-auc:0.70160\tvalidation_1-auc:0.69311\n",
      "[110]\tvalidation_0-auc:0.70177\tvalidation_1-auc:0.69327\n",
      "[111]\tvalidation_0-auc:0.70202\tvalidation_1-auc:0.69344\n",
      "[112]\tvalidation_0-auc:0.70216\tvalidation_1-auc:0.69347\n",
      "[113]\tvalidation_0-auc:0.70240\tvalidation_1-auc:0.69356\n",
      "[114]\tvalidation_0-auc:0.70273\tvalidation_1-auc:0.69383\n",
      "[115]\tvalidation_0-auc:0.70290\tvalidation_1-auc:0.69400\n",
      "[116]\tvalidation_0-auc:0.70310\tvalidation_1-auc:0.69417\n",
      "[117]\tvalidation_0-auc:0.70323\tvalidation_1-auc:0.69424\n",
      "[118]\tvalidation_0-auc:0.70346\tvalidation_1-auc:0.69440\n",
      "[119]\tvalidation_0-auc:0.70362\tvalidation_1-auc:0.69442\n",
      "[120]\tvalidation_0-auc:0.70372\tvalidation_1-auc:0.69454\n",
      "[121]\tvalidation_0-auc:0.70398\tvalidation_1-auc:0.69462\n",
      "[122]\tvalidation_0-auc:0.70417\tvalidation_1-auc:0.69472\n",
      "[123]\tvalidation_0-auc:0.70434\tvalidation_1-auc:0.69490\n",
      "[124]\tvalidation_0-auc:0.70454\tvalidation_1-auc:0.69505\n",
      "[125]\tvalidation_0-auc:0.70490\tvalidation_1-auc:0.69534\n",
      "[126]\tvalidation_0-auc:0.70517\tvalidation_1-auc:0.69556\n",
      "[127]\tvalidation_0-auc:0.70528\tvalidation_1-auc:0.69555\n",
      "[128]\tvalidation_0-auc:0.70576\tvalidation_1-auc:0.69597\n",
      "[129]\tvalidation_0-auc:0.70614\tvalidation_1-auc:0.69640\n",
      "[130]\tvalidation_0-auc:0.70635\tvalidation_1-auc:0.69661\n",
      "[131]\tvalidation_0-auc:0.70641\tvalidation_1-auc:0.69669\n",
      "[132]\tvalidation_0-auc:0.70665\tvalidation_1-auc:0.69696\n",
      "[133]\tvalidation_0-auc:0.70708\tvalidation_1-auc:0.69738\n",
      "[134]\tvalidation_0-auc:0.70725\tvalidation_1-auc:0.69762\n",
      "[135]\tvalidation_0-auc:0.70749\tvalidation_1-auc:0.69777\n",
      "[136]\tvalidation_0-auc:0.70767\tvalidation_1-auc:0.69794\n",
      "[137]\tvalidation_0-auc:0.70785\tvalidation_1-auc:0.69810\n",
      "[138]\tvalidation_0-auc:0.70798\tvalidation_1-auc:0.69818\n",
      "[139]\tvalidation_0-auc:0.70822\tvalidation_1-auc:0.69850\n",
      "[140]\tvalidation_0-auc:0.70833\tvalidation_1-auc:0.69860\n",
      "[141]\tvalidation_0-auc:0.70853\tvalidation_1-auc:0.69881\n",
      "[142]\tvalidation_0-auc:0.70869\tvalidation_1-auc:0.69892\n",
      "[143]\tvalidation_0-auc:0.70911\tvalidation_1-auc:0.69942\n",
      "[144]\tvalidation_0-auc:0.70923\tvalidation_1-auc:0.69954\n",
      "[145]\tvalidation_0-auc:0.70939\tvalidation_1-auc:0.69962\n",
      "[146]\tvalidation_0-auc:0.70952\tvalidation_1-auc:0.69967\n",
      "[147]\tvalidation_0-auc:0.70966\tvalidation_1-auc:0.69986\n",
      "[148]\tvalidation_0-auc:0.70980\tvalidation_1-auc:0.69994\n"
     ]
    },
    {
     "name": "stdout",
     "output_type": "stream",
     "text": [
      "[149]\tvalidation_0-auc:0.71003\tvalidation_1-auc:0.70015\n",
      "[150]\tvalidation_0-auc:0.71016\tvalidation_1-auc:0.70014\n",
      "[151]\tvalidation_0-auc:0.71028\tvalidation_1-auc:0.70017\n",
      "[152]\tvalidation_0-auc:0.71037\tvalidation_1-auc:0.70025\n",
      "[153]\tvalidation_0-auc:0.71050\tvalidation_1-auc:0.70041\n",
      "[154]\tvalidation_0-auc:0.71069\tvalidation_1-auc:0.70064\n",
      "[155]\tvalidation_0-auc:0.71083\tvalidation_1-auc:0.70075\n",
      "[156]\tvalidation_0-auc:0.71098\tvalidation_1-auc:0.70083\n",
      "[157]\tvalidation_0-auc:0.71118\tvalidation_1-auc:0.70087\n",
      "[158]\tvalidation_0-auc:0.71140\tvalidation_1-auc:0.70115\n",
      "[159]\tvalidation_0-auc:0.71151\tvalidation_1-auc:0.70119\n",
      "[160]\tvalidation_0-auc:0.71168\tvalidation_1-auc:0.70144\n",
      "[161]\tvalidation_0-auc:0.71182\tvalidation_1-auc:0.70153\n",
      "[162]\tvalidation_0-auc:0.71194\tvalidation_1-auc:0.70161\n",
      "[163]\tvalidation_0-auc:0.71201\tvalidation_1-auc:0.70167\n",
      "[164]\tvalidation_0-auc:0.71222\tvalidation_1-auc:0.70187\n",
      "[165]\tvalidation_0-auc:0.71237\tvalidation_1-auc:0.70199\n",
      "[166]\tvalidation_0-auc:0.71248\tvalidation_1-auc:0.70205\n",
      "[167]\tvalidation_0-auc:0.71257\tvalidation_1-auc:0.70211\n",
      "[168]\tvalidation_0-auc:0.71271\tvalidation_1-auc:0.70228\n",
      "[169]\tvalidation_0-auc:0.71273\tvalidation_1-auc:0.70231\n",
      "[170]\tvalidation_0-auc:0.71292\tvalidation_1-auc:0.70251\n",
      "[171]\tvalidation_0-auc:0.71303\tvalidation_1-auc:0.70252\n",
      "[172]\tvalidation_0-auc:0.71306\tvalidation_1-auc:0.70252\n",
      "[173]\tvalidation_0-auc:0.71318\tvalidation_1-auc:0.70261\n",
      "[174]\tvalidation_0-auc:0.71316\tvalidation_1-auc:0.70256\n",
      "[175]\tvalidation_0-auc:0.71330\tvalidation_1-auc:0.70271\n",
      "[176]\tvalidation_0-auc:0.71344\tvalidation_1-auc:0.70287\n",
      "[177]\tvalidation_0-auc:0.71362\tvalidation_1-auc:0.70301\n",
      "[178]\tvalidation_0-auc:0.71372\tvalidation_1-auc:0.70311\n",
      "[179]\tvalidation_0-auc:0.71384\tvalidation_1-auc:0.70322\n",
      "[180]\tvalidation_0-auc:0.71390\tvalidation_1-auc:0.70336\n",
      "[181]\tvalidation_0-auc:0.71399\tvalidation_1-auc:0.70340\n",
      "[182]\tvalidation_0-auc:0.71408\tvalidation_1-auc:0.70342\n",
      "[183]\tvalidation_0-auc:0.71416\tvalidation_1-auc:0.70352\n",
      "[184]\tvalidation_0-auc:0.71427\tvalidation_1-auc:0.70361\n",
      "[185]\tvalidation_0-auc:0.71441\tvalidation_1-auc:0.70376\n",
      "[186]\tvalidation_0-auc:0.71452\tvalidation_1-auc:0.70384\n",
      "[187]\tvalidation_0-auc:0.71454\tvalidation_1-auc:0.70388\n",
      "[188]\tvalidation_0-auc:0.71464\tvalidation_1-auc:0.70396\n",
      "[189]\tvalidation_0-auc:0.71471\tvalidation_1-auc:0.70401\n",
      "[190]\tvalidation_0-auc:0.71485\tvalidation_1-auc:0.70406\n",
      "[191]\tvalidation_0-auc:0.71496\tvalidation_1-auc:0.70409\n",
      "[192]\tvalidation_0-auc:0.71504\tvalidation_1-auc:0.70412\n",
      "[193]\tvalidation_0-auc:0.71515\tvalidation_1-auc:0.70421\n",
      "[194]\tvalidation_0-auc:0.71519\tvalidation_1-auc:0.70426\n",
      "[195]\tvalidation_0-auc:0.71526\tvalidation_1-auc:0.70437\n",
      "[196]\tvalidation_0-auc:0.71535\tvalidation_1-auc:0.70439\n",
      "[197]\tvalidation_0-auc:0.71544\tvalidation_1-auc:0.70448\n",
      "[198]\tvalidation_0-auc:0.71551\tvalidation_1-auc:0.70448\n",
      "[199]\tvalidation_0-auc:0.71554\tvalidation_1-auc:0.70449\n",
      "[200]\tvalidation_0-auc:0.71565\tvalidation_1-auc:0.70456\n",
      "[201]\tvalidation_0-auc:0.71569\tvalidation_1-auc:0.70456\n",
      "[202]\tvalidation_0-auc:0.71579\tvalidation_1-auc:0.70466\n",
      "[203]\tvalidation_0-auc:0.71589\tvalidation_1-auc:0.70486\n",
      "[204]\tvalidation_0-auc:0.71596\tvalidation_1-auc:0.70485\n",
      "[205]\tvalidation_0-auc:0.71602\tvalidation_1-auc:0.70498\n",
      "[206]\tvalidation_0-auc:0.71607\tvalidation_1-auc:0.70501\n",
      "[207]\tvalidation_0-auc:0.71615\tvalidation_1-auc:0.70509\n",
      "[208]\tvalidation_0-auc:0.71624\tvalidation_1-auc:0.70524\n",
      "[209]\tvalidation_0-auc:0.71626\tvalidation_1-auc:0.70523\n",
      "[210]\tvalidation_0-auc:0.71635\tvalidation_1-auc:0.70524\n",
      "[211]\tvalidation_0-auc:0.71640\tvalidation_1-auc:0.70526\n",
      "[212]\tvalidation_0-auc:0.71650\tvalidation_1-auc:0.70531\n",
      "[213]\tvalidation_0-auc:0.71657\tvalidation_1-auc:0.70534\n",
      "[214]\tvalidation_0-auc:0.71670\tvalidation_1-auc:0.70552\n",
      "[215]\tvalidation_0-auc:0.71679\tvalidation_1-auc:0.70557\n",
      "[216]\tvalidation_0-auc:0.71679\tvalidation_1-auc:0.70559\n",
      "[217]\tvalidation_0-auc:0.71681\tvalidation_1-auc:0.70560\n",
      "[218]\tvalidation_0-auc:0.71683\tvalidation_1-auc:0.70556\n",
      "[219]\tvalidation_0-auc:0.71693\tvalidation_1-auc:0.70562\n",
      "[220]\tvalidation_0-auc:0.71698\tvalidation_1-auc:0.70570\n",
      "[221]\tvalidation_0-auc:0.71705\tvalidation_1-auc:0.70576\n",
      "[222]\tvalidation_0-auc:0.71710\tvalidation_1-auc:0.70574\n",
      "[223]\tvalidation_0-auc:0.71719\tvalidation_1-auc:0.70578\n",
      "[224]\tvalidation_0-auc:0.71725\tvalidation_1-auc:0.70590\n",
      "[225]\tvalidation_0-auc:0.71731\tvalidation_1-auc:0.70590\n",
      "[226]\tvalidation_0-auc:0.71738\tvalidation_1-auc:0.70600\n",
      "[227]\tvalidation_0-auc:0.71741\tvalidation_1-auc:0.70601\n",
      "[228]\tvalidation_0-auc:0.71745\tvalidation_1-auc:0.70599\n",
      "[229]\tvalidation_0-auc:0.71754\tvalidation_1-auc:0.70601\n",
      "[230]\tvalidation_0-auc:0.71760\tvalidation_1-auc:0.70602\n",
      "[231]\tvalidation_0-auc:0.71768\tvalidation_1-auc:0.70608\n",
      "[232]\tvalidation_0-auc:0.71776\tvalidation_1-auc:0.70612\n",
      "[233]\tvalidation_0-auc:0.71783\tvalidation_1-auc:0.70615\n",
      "[234]\tvalidation_0-auc:0.71788\tvalidation_1-auc:0.70617\n",
      "[235]\tvalidation_0-auc:0.71795\tvalidation_1-auc:0.70621\n",
      "[236]\tvalidation_0-auc:0.71802\tvalidation_1-auc:0.70623\n",
      "[237]\tvalidation_0-auc:0.71809\tvalidation_1-auc:0.70620\n",
      "[238]\tvalidation_0-auc:0.71813\tvalidation_1-auc:0.70624\n",
      "[239]\tvalidation_0-auc:0.71818\tvalidation_1-auc:0.70626\n",
      "[240]\tvalidation_0-auc:0.71822\tvalidation_1-auc:0.70626\n",
      "[241]\tvalidation_0-auc:0.71827\tvalidation_1-auc:0.70629\n",
      "[242]\tvalidation_0-auc:0.71834\tvalidation_1-auc:0.70632\n",
      "[243]\tvalidation_0-auc:0.71840\tvalidation_1-auc:0.70633\n",
      "[244]\tvalidation_0-auc:0.71844\tvalidation_1-auc:0.70635\n",
      "[245]\tvalidation_0-auc:0.71852\tvalidation_1-auc:0.70634\n",
      "[246]\tvalidation_0-auc:0.71859\tvalidation_1-auc:0.70639\n",
      "[247]\tvalidation_0-auc:0.71864\tvalidation_1-auc:0.70647\n",
      "[248]\tvalidation_0-auc:0.71867\tvalidation_1-auc:0.70652\n",
      "[249]\tvalidation_0-auc:0.71870\tvalidation_1-auc:0.70655\n",
      "[250]\tvalidation_0-auc:0.71879\tvalidation_1-auc:0.70663\n",
      "[251]\tvalidation_0-auc:0.71886\tvalidation_1-auc:0.70664\n",
      "[252]\tvalidation_0-auc:0.71891\tvalidation_1-auc:0.70669\n",
      "[253]\tvalidation_0-auc:0.71895\tvalidation_1-auc:0.70670\n",
      "[254]\tvalidation_0-auc:0.71900\tvalidation_1-auc:0.70669\n",
      "[255]\tvalidation_0-auc:0.71903\tvalidation_1-auc:0.70667\n",
      "[256]\tvalidation_0-auc:0.71911\tvalidation_1-auc:0.70679\n",
      "[257]\tvalidation_0-auc:0.71915\tvalidation_1-auc:0.70678\n",
      "[258]\tvalidation_0-auc:0.71917\tvalidation_1-auc:0.70680\n",
      "[259]\tvalidation_0-auc:0.71923\tvalidation_1-auc:0.70688\n",
      "[260]\tvalidation_0-auc:0.71925\tvalidation_1-auc:0.70688\n",
      "[261]\tvalidation_0-auc:0.71930\tvalidation_1-auc:0.70690\n",
      "[262]\tvalidation_0-auc:0.71931\tvalidation_1-auc:0.70691\n",
      "[263]\tvalidation_0-auc:0.71933\tvalidation_1-auc:0.70693\n",
      "[264]\tvalidation_0-auc:0.71938\tvalidation_1-auc:0.70693\n",
      "[265]\tvalidation_0-auc:0.71942\tvalidation_1-auc:0.70693\n",
      "[266]\tvalidation_0-auc:0.71948\tvalidation_1-auc:0.70696\n",
      "[267]\tvalidation_0-auc:0.71953\tvalidation_1-auc:0.70698\n",
      "[268]\tvalidation_0-auc:0.71953\tvalidation_1-auc:0.70697\n",
      "[269]\tvalidation_0-auc:0.71959\tvalidation_1-auc:0.70703\n",
      "[270]\tvalidation_0-auc:0.71969\tvalidation_1-auc:0.70703\n",
      "[271]\tvalidation_0-auc:0.71973\tvalidation_1-auc:0.70703\n",
      "[272]\tvalidation_0-auc:0.71977\tvalidation_1-auc:0.70706\n",
      "[273]\tvalidation_0-auc:0.71979\tvalidation_1-auc:0.70710\n",
      "[274]\tvalidation_0-auc:0.71987\tvalidation_1-auc:0.70714\n",
      "[275]\tvalidation_0-auc:0.71985\tvalidation_1-auc:0.70715\n",
      "[276]\tvalidation_0-auc:0.71990\tvalidation_1-auc:0.70715\n",
      "[277]\tvalidation_0-auc:0.71996\tvalidation_1-auc:0.70717\n",
      "[278]\tvalidation_0-auc:0.72000\tvalidation_1-auc:0.70717\n",
      "[279]\tvalidation_0-auc:0.72006\tvalidation_1-auc:0.70713\n",
      "[280]\tvalidation_0-auc:0.72007\tvalidation_1-auc:0.70714\n",
      "[281]\tvalidation_0-auc:0.72015\tvalidation_1-auc:0.70719\n",
      "[282]\tvalidation_0-auc:0.72019\tvalidation_1-auc:0.70720\n",
      "[283]\tvalidation_0-auc:0.72022\tvalidation_1-auc:0.70721\n",
      "[284]\tvalidation_0-auc:0.72027\tvalidation_1-auc:0.70720\n",
      "[285]\tvalidation_0-auc:0.72031\tvalidation_1-auc:0.70722\n",
      "[286]\tvalidation_0-auc:0.72036\tvalidation_1-auc:0.70724\n",
      "[287]\tvalidation_0-auc:0.72037\tvalidation_1-auc:0.70724\n",
      "[288]\tvalidation_0-auc:0.72042\tvalidation_1-auc:0.70723\n",
      "[289]\tvalidation_0-auc:0.72048\tvalidation_1-auc:0.70723\n",
      "[290]\tvalidation_0-auc:0.72051\tvalidation_1-auc:0.70723\n",
      "[291]\tvalidation_0-auc:0.72057\tvalidation_1-auc:0.70730\n",
      "[292]\tvalidation_0-auc:0.72063\tvalidation_1-auc:0.70727\n",
      "[293]\tvalidation_0-auc:0.72068\tvalidation_1-auc:0.70733\n",
      "[294]\tvalidation_0-auc:0.72075\tvalidation_1-auc:0.70738\n",
      "[295]\tvalidation_0-auc:0.72077\tvalidation_1-auc:0.70738\n"
     ]
    },
    {
     "name": "stdout",
     "output_type": "stream",
     "text": [
      "[296]\tvalidation_0-auc:0.72080\tvalidation_1-auc:0.70740\n",
      "[297]\tvalidation_0-auc:0.72082\tvalidation_1-auc:0.70740\n",
      "[298]\tvalidation_0-auc:0.72085\tvalidation_1-auc:0.70741\n",
      "[299]\tvalidation_0-auc:0.72092\tvalidation_1-auc:0.70743\n",
      "[300]\tvalidation_0-auc:0.72100\tvalidation_1-auc:0.70744\n",
      "[301]\tvalidation_0-auc:0.72105\tvalidation_1-auc:0.70748\n",
      "[302]\tvalidation_0-auc:0.72109\tvalidation_1-auc:0.70751\n",
      "[303]\tvalidation_0-auc:0.72113\tvalidation_1-auc:0.70752\n",
      "[304]\tvalidation_0-auc:0.72115\tvalidation_1-auc:0.70752\n",
      "[305]\tvalidation_0-auc:0.72119\tvalidation_1-auc:0.70752\n",
      "[306]\tvalidation_0-auc:0.72125\tvalidation_1-auc:0.70759\n",
      "[307]\tvalidation_0-auc:0.72130\tvalidation_1-auc:0.70761\n",
      "[308]\tvalidation_0-auc:0.72133\tvalidation_1-auc:0.70763\n",
      "[309]\tvalidation_0-auc:0.72136\tvalidation_1-auc:0.70763\n",
      "[310]\tvalidation_0-auc:0.72141\tvalidation_1-auc:0.70767\n",
      "[311]\tvalidation_0-auc:0.72145\tvalidation_1-auc:0.70767\n",
      "[312]\tvalidation_0-auc:0.72152\tvalidation_1-auc:0.70766\n",
      "[313]\tvalidation_0-auc:0.72155\tvalidation_1-auc:0.70769\n",
      "[314]\tvalidation_0-auc:0.72159\tvalidation_1-auc:0.70774\n",
      "[315]\tvalidation_0-auc:0.72161\tvalidation_1-auc:0.70775\n",
      "[316]\tvalidation_0-auc:0.72167\tvalidation_1-auc:0.70776\n",
      "[317]\tvalidation_0-auc:0.72171\tvalidation_1-auc:0.70776\n",
      "[318]\tvalidation_0-auc:0.72176\tvalidation_1-auc:0.70783\n",
      "[319]\tvalidation_0-auc:0.72179\tvalidation_1-auc:0.70782\n",
      "[320]\tvalidation_0-auc:0.72183\tvalidation_1-auc:0.70784\n",
      "[321]\tvalidation_0-auc:0.72185\tvalidation_1-auc:0.70786\n",
      "[322]\tvalidation_0-auc:0.72188\tvalidation_1-auc:0.70791\n",
      "[323]\tvalidation_0-auc:0.72195\tvalidation_1-auc:0.70793\n",
      "[324]\tvalidation_0-auc:0.72200\tvalidation_1-auc:0.70793\n",
      "[325]\tvalidation_0-auc:0.72205\tvalidation_1-auc:0.70794\n",
      "[326]\tvalidation_0-auc:0.72211\tvalidation_1-auc:0.70795\n",
      "[327]\tvalidation_0-auc:0.72220\tvalidation_1-auc:0.70801\n",
      "[328]\tvalidation_0-auc:0.72229\tvalidation_1-auc:0.70809\n",
      "[329]\tvalidation_0-auc:0.72231\tvalidation_1-auc:0.70810\n",
      "[330]\tvalidation_0-auc:0.72235\tvalidation_1-auc:0.70810\n",
      "[331]\tvalidation_0-auc:0.72240\tvalidation_1-auc:0.70812\n",
      "[332]\tvalidation_0-auc:0.72243\tvalidation_1-auc:0.70816\n",
      "[333]\tvalidation_0-auc:0.72245\tvalidation_1-auc:0.70817\n",
      "[334]\tvalidation_0-auc:0.72252\tvalidation_1-auc:0.70815\n",
      "[335]\tvalidation_0-auc:0.72251\tvalidation_1-auc:0.70814\n",
      "[336]\tvalidation_0-auc:0.72258\tvalidation_1-auc:0.70810\n",
      "[337]\tvalidation_0-auc:0.72261\tvalidation_1-auc:0.70813\n",
      "[338]\tvalidation_0-auc:0.72264\tvalidation_1-auc:0.70817\n",
      "[339]\tvalidation_0-auc:0.72267\tvalidation_1-auc:0.70818\n",
      "[340]\tvalidation_0-auc:0.72274\tvalidation_1-auc:0.70820\n",
      "[341]\tvalidation_0-auc:0.72275\tvalidation_1-auc:0.70818\n",
      "[342]\tvalidation_0-auc:0.72279\tvalidation_1-auc:0.70821\n",
      "[343]\tvalidation_0-auc:0.72281\tvalidation_1-auc:0.70824\n",
      "[344]\tvalidation_0-auc:0.72284\tvalidation_1-auc:0.70824\n",
      "[345]\tvalidation_0-auc:0.72287\tvalidation_1-auc:0.70824\n",
      "[346]\tvalidation_0-auc:0.72292\tvalidation_1-auc:0.70822\n",
      "[347]\tvalidation_0-auc:0.72296\tvalidation_1-auc:0.70827\n",
      "[348]\tvalidation_0-auc:0.72301\tvalidation_1-auc:0.70827\n",
      "[349]\tvalidation_0-auc:0.72306\tvalidation_1-auc:0.70826\n",
      "[350]\tvalidation_0-auc:0.72308\tvalidation_1-auc:0.70826\n",
      "[351]\tvalidation_0-auc:0.72309\tvalidation_1-auc:0.70826\n",
      "[352]\tvalidation_0-auc:0.72312\tvalidation_1-auc:0.70828\n",
      "[353]\tvalidation_0-auc:0.72314\tvalidation_1-auc:0.70830\n",
      "[354]\tvalidation_0-auc:0.72319\tvalidation_1-auc:0.70827\n",
      "[355]\tvalidation_0-auc:0.72324\tvalidation_1-auc:0.70828\n",
      "[356]\tvalidation_0-auc:0.72324\tvalidation_1-auc:0.70828\n",
      "[357]\tvalidation_0-auc:0.72328\tvalidation_1-auc:0.70832\n",
      "[358]\tvalidation_0-auc:0.72331\tvalidation_1-auc:0.70830\n",
      "[359]\tvalidation_0-auc:0.72333\tvalidation_1-auc:0.70830\n",
      "[360]\tvalidation_0-auc:0.72336\tvalidation_1-auc:0.70833\n",
      "[361]\tvalidation_0-auc:0.72338\tvalidation_1-auc:0.70835\n",
      "[362]\tvalidation_0-auc:0.72343\tvalidation_1-auc:0.70838\n",
      "[363]\tvalidation_0-auc:0.72345\tvalidation_1-auc:0.70838\n",
      "[364]\tvalidation_0-auc:0.72348\tvalidation_1-auc:0.70840\n",
      "[365]\tvalidation_0-auc:0.72351\tvalidation_1-auc:0.70839\n",
      "[366]\tvalidation_0-auc:0.72352\tvalidation_1-auc:0.70839\n",
      "[367]\tvalidation_0-auc:0.72358\tvalidation_1-auc:0.70844\n",
      "[368]\tvalidation_0-auc:0.72363\tvalidation_1-auc:0.70849\n",
      "[369]\tvalidation_0-auc:0.72366\tvalidation_1-auc:0.70848\n",
      "[370]\tvalidation_0-auc:0.72369\tvalidation_1-auc:0.70848\n",
      "[371]\tvalidation_0-auc:0.72372\tvalidation_1-auc:0.70848\n",
      "[372]\tvalidation_0-auc:0.72375\tvalidation_1-auc:0.70846\n",
      "[373]\tvalidation_0-auc:0.72379\tvalidation_1-auc:0.70847\n",
      "[374]\tvalidation_0-auc:0.72378\tvalidation_1-auc:0.70847\n",
      "[375]\tvalidation_0-auc:0.72381\tvalidation_1-auc:0.70845\n",
      "[376]\tvalidation_0-auc:0.72389\tvalidation_1-auc:0.70847\n",
      "[377]\tvalidation_0-auc:0.72390\tvalidation_1-auc:0.70847\n",
      "[378]\tvalidation_0-auc:0.72394\tvalidation_1-auc:0.70844\n"
     ]
    },
    {
     "data": {
      "text/plain": [
       "XGBClassifier(base_score=0.5, booster='gbtree', colsample_bylevel=1,\n",
       "              colsample_bynode=1, colsample_bytree=0.5, eta=0.05, gamma=0,\n",
       "              gpu_id=-1, importance_type='gain', interaction_constraints='',\n",
       "              learning_rate=0.0500000007, max_delta_step=0, max_depth=3,\n",
       "              min_child_weight=120, missing=nan, monotone_constraints='()',\n",
       "              n_estimators=500, n_jobs=4, num_parallel_tree=1,\n",
       "              objective='binary:logistic', random_state=42, reg_alpha=0,\n",
       "              reg_lambda=1, scale_pos_weight=1, seed=42, subsample=1,\n",
       "              tree_method='exact', use_label_encoder=True,\n",
       "              validate_parameters=1, verbosity=None)"
      ]
     },
     "execution_count": 50,
     "metadata": {},
     "output_type": "execute_result"
    }
   ],
   "source": [
    "model_xgb.fit(\n",
    "    X_train, y_train,\n",
    "    eval_metric='auc', \n",
    "    eval_set=[(X_train, y_train), (X_valid, y_valid)],\n",
    "    verbose=True,\n",
    "    #早停法，如果auc在10epoch没有进步就stop\n",
    "    early_stopping_rounds=10 \n",
    ")"
   ]
  },
  {
   "cell_type": "code",
   "execution_count": 53,
   "metadata": {
    "ExecuteTime": {
     "end_time": "2021-02-27T08:20:54.145406Z",
     "start_time": "2021-02-27T08:20:52.452846Z"
    },
    "scrolled": true
   },
   "outputs": [],
   "source": [
    "prob = model_xgb.predict_proba(test_data)\n",
    "submission['prob'] = pd.Series(prob[:,1])\n",
    "submission.drop(['origin'], axis=1, inplace=True)\n",
    "submission.to_csv('./submission/prediction_xbg_2.csv', index=False)"
   ]
  },
  {
   "cell_type": "markdown",
   "metadata": {},
   "source": [
    "### LightGBM\n",
    "2021.02.27最优模型  \n",
    "auc=0.6809485\n",
    "\n",
    "\n",
    "CV寻找最优参数"
   ]
  },
  {
   "cell_type": "code",
   "execution_count": 54,
   "metadata": {
    "ExecuteTime": {
     "end_time": "2021-02-27T08:25:20.929771Z",
     "start_time": "2021-02-27T08:25:20.924783Z"
    }
   },
   "outputs": [],
   "source": [
    "model_lgb = lgb.LGBMClassifier(\n",
    "    n_estimators=200,\n",
    "    objective='binary',\n",
    "    subsample=0.8,\n",
    "    colsample_bytree=0.8,\n",
    "    max_depth=3,\n",
    "    num_leaves=50,\n",
    "    learning_rate=0.1,\n",
    "    reg_lambda=1,\n",
    "    metric=['auc']\n",
    ")"
   ]
  },
  {
   "cell_type": "markdown",
   "metadata": {},
   "source": [
    "寻找树深度，叶子数量最优参数"
   ]
  },
  {
   "cell_type": "code",
   "execution_count": 38,
   "metadata": {
    "ExecuteTime": {
     "end_time": "2021-02-27T05:34:13.407767Z",
     "start_time": "2021-02-27T05:34:13.404215Z"
    }
   },
   "outputs": [],
   "source": [
    "params_test1={\n",
    "    'max_depth': range(3,8,2),\n",
    "    'num_leaves':range(50,170,30)\n",
    "}"
   ]
  },
  {
   "cell_type": "code",
   "execution_count": null,
   "metadata": {},
   "outputs": [],
   "source": [
    "gsearch1 = GridSearchCV(estimator=model_lgb, param_grid=params_test1, scoring='roc_auc', cv=5, verbose=1, n_jobs=4)\n",
    "gsearch1.fit(X_train, y_train)"
   ]
  },
  {
   "cell_type": "code",
   "execution_count": 44,
   "metadata": {
    "ExecuteTime": {
     "end_time": "2021-02-27T05:44:39.717094Z",
     "start_time": "2021-02-27T05:44:39.706071Z"
    },
    "scrolled": true
   },
   "outputs": [
    {
     "data": {
      "text/plain": [
       "({'mean_fit_time': array([ 6.98497987,  7.79617214,  7.28170156,  7.87663469,  9.04575028,\n",
       "         11.14345508, 10.62704248, 11.15114255, 12.76195068, 15.23219094,\n",
       "         12.38303103, 10.62938423]),\n",
       "  'std_fit_time': array([0.08446479, 0.92138191, 0.51473822, 0.70975208, 0.96692583,\n",
       "         1.53159304, 1.91972056, 0.77423959, 0.7950251 , 1.77401645,\n",
       "         0.94057841, 0.89351958]),\n",
       "  'mean_score_time': array([0.74787292, 0.8372664 , 0.8604497 , 0.84051318, 1.42310262,\n",
       "         1.88381686, 1.57841301, 1.26859951, 1.95278959, 1.75649066,\n",
       "         1.76403556, 1.50091591]),\n",
       "  'std_score_time': array([0.10775955, 0.11207667, 0.11950106, 0.09754095, 0.14780292,\n",
       "         0.26637882, 0.3226497 , 0.13314999, 0.52081703, 0.3145436 ,\n",
       "         0.14303275, 0.23899355]),\n",
       "  'param_max_depth': masked_array(data=[3, 3, 3, 3, 5, 5, 5, 5, 7, 7, 7, 7],\n",
       "               mask=[False, False, False, False, False, False, False, False,\n",
       "                     False, False, False, False],\n",
       "         fill_value='?',\n",
       "              dtype=object),\n",
       "  'param_num_leaves': masked_array(data=[50, 80, 110, 140, 50, 80, 110, 140, 50, 80, 110, 140],\n",
       "               mask=[False, False, False, False, False, False, False, False,\n",
       "                     False, False, False, False],\n",
       "         fill_value='?',\n",
       "              dtype=object),\n",
       "  'params': [{'max_depth': 3, 'num_leaves': 50},\n",
       "   {'max_depth': 3, 'num_leaves': 80},\n",
       "   {'max_depth': 3, 'num_leaves': 110},\n",
       "   {'max_depth': 3, 'num_leaves': 140},\n",
       "   {'max_depth': 5, 'num_leaves': 50},\n",
       "   {'max_depth': 5, 'num_leaves': 80},\n",
       "   {'max_depth': 5, 'num_leaves': 110},\n",
       "   {'max_depth': 5, 'num_leaves': 140},\n",
       "   {'max_depth': 7, 'num_leaves': 50},\n",
       "   {'max_depth': 7, 'num_leaves': 80},\n",
       "   {'max_depth': 7, 'num_leaves': 110},\n",
       "   {'max_depth': 7, 'num_leaves': 140}],\n",
       "  'split0_test_score': array([0.70438846, 0.70438846, 0.70438846, 0.70438846, 0.70113914,\n",
       "         0.70113914, 0.70113914, 0.70113914, 0.69660201, 0.69326542,\n",
       "         0.69356425, 0.69301629]),\n",
       "  'split1_test_score': array([0.70770527, 0.70770527, 0.70770527, 0.70770527, 0.70664641,\n",
       "         0.70664641, 0.70664641, 0.70664641, 0.7020684 , 0.69964452,\n",
       "         0.69775675, 0.69939038]),\n",
       "  'split2_test_score': array([0.71635577, 0.71635577, 0.71635577, 0.71635577, 0.71350316,\n",
       "         0.71350316, 0.71350316, 0.71350316, 0.70888351, 0.70756367,\n",
       "         0.70547972, 0.70668373]),\n",
       "  'split3_test_score': array([0.70948084, 0.70948084, 0.70948084, 0.70948084, 0.70795176,\n",
       "         0.70795176, 0.70795176, 0.70795176, 0.70110874, 0.69965467,\n",
       "         0.69874246, 0.69965783]),\n",
       "  'split4_test_score': array([0.71118475, 0.71118475, 0.71118475, 0.71118475, 0.70613846,\n",
       "         0.70613846, 0.70613846, 0.70613846, 0.69906625, 0.69585229,\n",
       "         0.69875276, 0.69707189]),\n",
       "  'mean_test_score': array([0.70982302, 0.70982302, 0.70982302, 0.70982302, 0.70707579,\n",
       "         0.70707579, 0.70707579, 0.70707579, 0.70154578, 0.69919611,\n",
       "         0.69885919, 0.69916403]),\n",
       "  'std_test_score': array([0.00396655, 0.00396655, 0.00396655, 0.00396655, 0.00395943,\n",
       "         0.00395943, 0.00395943, 0.00395943, 0.00412057, 0.00483284,\n",
       "         0.00382383, 0.00445001]),\n",
       "  'rank_test_score': array([ 1,  1,  1,  1,  5,  5,  5,  5,  9, 10, 12, 11])},\n",
       " {'max_depth': 3, 'num_leaves': 50},\n",
       " 0.709823020297273)"
      ]
     },
     "execution_count": 44,
     "metadata": {},
     "output_type": "execute_result"
    }
   ],
   "source": [
    "gsearch1.cv_results_, gsearch1.best_params_, gsearch1.best_score_"
   ]
  },
  {
   "cell_type": "markdown",
   "metadata": {},
   "source": [
    "寻找min_data_in_leaf和min_sum_hessian_in_leaf"
   ]
  },
  {
   "cell_type": "code",
   "execution_count": 45,
   "metadata": {
    "ExecuteTime": {
     "end_time": "2021-02-27T05:49:39.028422Z",
     "start_time": "2021-02-27T05:49:39.023476Z"
    }
   },
   "outputs": [],
   "source": [
    "model_lgb = lgb.LGBMClassifier(\n",
    "    n_estimators=200,\n",
    "    objective='binary',\n",
    "    subsample=0.8,\n",
    "    colsample_bytree=0.8,\n",
    "    max_depth=3,\n",
    "    num_leaves=50,\n",
    "    learning_rate=0.1,\n",
    "    reg_lambda=1,\n",
    "    metric=['auc']\n",
    ")"
   ]
  },
  {
   "cell_type": "code",
   "execution_count": 46,
   "metadata": {
    "ExecuteTime": {
     "end_time": "2021-02-27T05:49:39.804932Z",
     "start_time": "2021-02-27T05:49:39.801920Z"
    }
   },
   "outputs": [],
   "source": [
    "params_test2={\n",
    "    'min_child_samples': [18, 19, 20, 21, 22],\n",
    "    'min_child_weight':[0.001, 0.002]\n",
    "}"
   ]
  },
  {
   "cell_type": "code",
   "execution_count": 47,
   "metadata": {
    "ExecuteTime": {
     "end_time": "2021-02-27T05:52:30.948907Z",
     "start_time": "2021-02-27T05:50:14.952369Z"
    },
    "scrolled": true
   },
   "outputs": [
    {
     "name": "stdout",
     "output_type": "stream",
     "text": [
      "Fitting 5 folds for each of 10 candidates, totalling 50 fits\n"
     ]
    },
    {
     "name": "stderr",
     "output_type": "stream",
     "text": [
      "[Parallel(n_jobs=4)]: Using backend LokyBackend with 4 concurrent workers.\n",
      "[Parallel(n_jobs=4)]: Done  42 tasks      | elapsed:  1.8min\n",
      "[Parallel(n_jobs=4)]: Done  50 out of  50 | elapsed:  2.2min finished\n"
     ]
    },
    {
     "data": {
      "text/plain": [
       "GridSearchCV(cv=5, error_score=nan,\n",
       "             estimator=LGBMClassifier(boosting_type='gbdt', class_weight=None,\n",
       "                                      colsample_bytree=0.8,\n",
       "                                      importance_type='split',\n",
       "                                      learning_rate=0.1, max_depth=3,\n",
       "                                      metric=['auc'], min_child_samples=20,\n",
       "                                      min_child_weight=0.001,\n",
       "                                      min_split_gain=0.0, n_estimators=200,\n",
       "                                      n_jobs=-1, num_leaves=50,\n",
       "                                      objective='binary', random_state=None,\n",
       "                                      reg_alpha=0.0, reg_lambda=1, silent=True,\n",
       "                                      subsample=0.8, subsample_for_bin=200000,\n",
       "                                      subsample_freq=0),\n",
       "             iid='deprecated', n_jobs=4,\n",
       "             param_grid={'min_child_samples': [18, 19, 20, 21, 22],\n",
       "                         'min_child_weight': [0.001, 0.002]},\n",
       "             pre_dispatch='2*n_jobs', refit=True, return_train_score=False,\n",
       "             scoring='roc_auc', verbose=1)"
      ]
     },
     "execution_count": 47,
     "metadata": {},
     "output_type": "execute_result"
    }
   ],
   "source": [
    "gsearch2 = GridSearchCV(estimator=model_lgb, param_grid=params_test2, scoring='roc_auc', cv=5, verbose=1, n_jobs=4)\n",
    "gsearch2.fit(X_train, y_train)"
   ]
  },
  {
   "cell_type": "code",
   "execution_count": 48,
   "metadata": {
    "ExecuteTime": {
     "end_time": "2021-02-27T05:54:54.046030Z",
     "start_time": "2021-02-27T05:54:54.034920Z"
    },
    "scrolled": true
   },
   "outputs": [
    {
     "data": {
      "text/plain": [
       "({'mean_fit_time': array([ 8.21884499,  7.57595859,  8.60315795,  7.59467487,  7.70812058,\n",
       "          9.09389596,  9.43928676, 10.08624711,  9.87756248,  9.89501419]),\n",
       "  'std_fit_time': array([1.20218928, 0.27725212, 0.38644261, 1.29053823, 0.70941346,\n",
       "         0.95342399, 1.32012684, 1.16610105, 1.03203584, 1.17402278]),\n",
       "  'mean_score_time': array([0.86973443, 0.84423232, 0.94981685, 0.91652493, 0.92765255,\n",
       "         0.97472544, 1.21839457, 1.20160966, 1.00439162, 0.82824764]),\n",
       "  'std_score_time': array([0.14401967, 0.10396152, 0.37354748, 0.15358409, 0.19868709,\n",
       "         0.11983977, 0.39155247, 0.31258567, 0.16018168, 0.15423524]),\n",
       "  'param_min_child_samples': masked_array(data=[18, 18, 19, 19, 20, 20, 21, 21, 22, 22],\n",
       "               mask=[False, False, False, False, False, False, False, False,\n",
       "                     False, False],\n",
       "         fill_value='?',\n",
       "              dtype=object),\n",
       "  'param_min_child_weight': masked_array(data=[0.001, 0.002, 0.001, 0.002, 0.001, 0.002, 0.001, 0.002,\n",
       "                     0.001, 0.002],\n",
       "               mask=[False, False, False, False, False, False, False, False,\n",
       "                     False, False],\n",
       "         fill_value='?',\n",
       "              dtype=object),\n",
       "  'params': [{'min_child_samples': 18, 'min_child_weight': 0.001},\n",
       "   {'min_child_samples': 18, 'min_child_weight': 0.002},\n",
       "   {'min_child_samples': 19, 'min_child_weight': 0.001},\n",
       "   {'min_child_samples': 19, 'min_child_weight': 0.002},\n",
       "   {'min_child_samples': 20, 'min_child_weight': 0.001},\n",
       "   {'min_child_samples': 20, 'min_child_weight': 0.002},\n",
       "   {'min_child_samples': 21, 'min_child_weight': 0.001},\n",
       "   {'min_child_samples': 21, 'min_child_weight': 0.002},\n",
       "   {'min_child_samples': 22, 'min_child_weight': 0.001},\n",
       "   {'min_child_samples': 22, 'min_child_weight': 0.002}],\n",
       "  'split0_test_score': array([0.7042865 , 0.7042865 , 0.70398008, 0.70398008, 0.70438846,\n",
       "         0.70438846, 0.70417564, 0.70417564, 0.70376118, 0.70376118]),\n",
       "  'split1_test_score': array([0.70739739, 0.70739739, 0.70784854, 0.70784854, 0.70770527,\n",
       "         0.70770527, 0.70783948, 0.70783948, 0.70833819, 0.70833819]),\n",
       "  'split2_test_score': array([0.7162281 , 0.7162281 , 0.71614366, 0.71614366, 0.71635577,\n",
       "         0.71635577, 0.71586798, 0.71586798, 0.7164013 , 0.7164013 ]),\n",
       "  'split3_test_score': array([0.70896814, 0.70896814, 0.70941029, 0.70941029, 0.70948084,\n",
       "         0.70948084, 0.70943618, 0.70943618, 0.70944158, 0.70944158]),\n",
       "  'split4_test_score': array([0.71110531, 0.71110531, 0.71109846, 0.71109846, 0.71118475,\n",
       "         0.71118475, 0.71124315, 0.71124315, 0.71139159, 0.71139159]),\n",
       "  'mean_test_score': array([0.70959709, 0.70959709, 0.7096962 , 0.7096962 , 0.70982302,\n",
       "         0.70982302, 0.70971249, 0.70971249, 0.70986677, 0.70986677]),\n",
       "  'std_test_score': array([0.00399203, 0.00399203, 0.00399263, 0.00399263, 0.00396655,\n",
       "         0.00396655, 0.00385938, 0.00385938, 0.00411876, 0.00411876]),\n",
       "  'rank_test_score': array([9, 9, 7, 7, 3, 3, 5, 5, 1, 1])},\n",
       " {'min_child_samples': 22, 'min_child_weight': 0.001},\n",
       " 0.7098667659072311)"
      ]
     },
     "execution_count": 48,
     "metadata": {},
     "output_type": "execute_result"
    }
   ],
   "source": [
    "gsearch2.cv_results_, gsearch2.best_params_, gsearch2.best_score_"
   ]
  },
  {
   "cell_type": "markdown",
   "metadata": {},
   "source": [
    "调参feature_fraction 和 bagging_fraction"
   ]
  },
  {
   "cell_type": "code",
   "execution_count": 55,
   "metadata": {
    "ExecuteTime": {
     "end_time": "2021-02-27T08:26:07.871364Z",
     "start_time": "2021-02-27T08:26:07.867070Z"
    }
   },
   "outputs": [],
   "source": [
    "model_lgb = lgb.LGBMClassifier(\n",
    "    n_estimators=200,\n",
    "    objective='binary',\n",
    "    subsample=0.8,\n",
    "    colsample_bytree=0.8,\n",
    "    max_depth=3,\n",
    "    num_leaves=50,\n",
    "    learning_rate=0.1,\n",
    "    reg_lambda=1,\n",
    "    min_child_samples=22,\n",
    "    min_child_weight=0.001,\n",
    "    metric=['auc']\n",
    ")"
   ]
  },
  {
   "cell_type": "code",
   "execution_count": 56,
   "metadata": {
    "ExecuteTime": {
     "end_time": "2021-02-27T08:26:12.045646Z",
     "start_time": "2021-02-27T08:26:12.042620Z"
    }
   },
   "outputs": [],
   "source": [
    "params_test3={\n",
    "    'feature_fraction': [0.5, 0.6, 0.7, 0.8, 0.9],\n",
    "    'bagging_fraction': [0.6, 0.7, 0.8, 0.9, 1.0]\n",
    "}"
   ]
  },
  {
   "cell_type": "code",
   "execution_count": 57,
   "metadata": {
    "ExecuteTime": {
     "end_time": "2021-02-27T08:30:17.948796Z",
     "start_time": "2021-02-27T08:26:13.970815Z"
    },
    "scrolled": true
   },
   "outputs": [
    {
     "name": "stdout",
     "output_type": "stream",
     "text": [
      "Fitting 5 folds for each of 25 candidates, totalling 125 fits\n"
     ]
    },
    {
     "name": "stderr",
     "output_type": "stream",
     "text": [
      "[Parallel(n_jobs=4)]: Using backend LokyBackend with 4 concurrent workers.\n",
      "[Parallel(n_jobs=4)]: Done  42 tasks      | elapsed:  1.4min\n",
      "[Parallel(n_jobs=4)]: Done 125 out of 125 | elapsed:  4.0min finished\n"
     ]
    },
    {
     "name": "stdout",
     "output_type": "stream",
     "text": [
      "[LightGBM] [Warning] feature_fraction is set=0.7, colsample_bytree=0.8 will be ignored. Current value: feature_fraction=0.7\n",
      "[LightGBM] [Warning] bagging_fraction is set=0.6, subsample=0.8 will be ignored. Current value: bagging_fraction=0.6\n"
     ]
    },
    {
     "data": {
      "text/plain": [
       "GridSearchCV(cv=5, error_score=nan,\n",
       "             estimator=LGBMClassifier(boosting_type='gbdt', class_weight=None,\n",
       "                                      colsample_bytree=0.8,\n",
       "                                      importance_type='split',\n",
       "                                      learning_rate=0.1, max_depth=3,\n",
       "                                      metric=['auc'], min_child_samples=22,\n",
       "                                      min_child_weight=0.001,\n",
       "                                      min_split_gain=0.0, n_estimators=200,\n",
       "                                      n_jobs=-1, num_leaves=50,\n",
       "                                      objective='binary', random_state=None,\n",
       "                                      reg_alpha=0.0, reg_lambda=1, silent=True,\n",
       "                                      subsample=0.8, subsample_for_bin=200000,\n",
       "                                      subsample_freq=0),\n",
       "             iid='deprecated', n_jobs=4,\n",
       "             param_grid={'bagging_fraction': [0.6, 0.7, 0.8, 0.9, 1.0],\n",
       "                         'feature_fraction': [0.5, 0.6, 0.7, 0.8, 0.9]},\n",
       "             pre_dispatch='2*n_jobs', refit=True, return_train_score=False,\n",
       "             scoring='roc_auc', verbose=1)"
      ]
     },
     "execution_count": 57,
     "metadata": {},
     "output_type": "execute_result"
    }
   ],
   "source": [
    "gsearch3 = GridSearchCV(estimator=model_lgb, param_grid=params_test3, scoring='roc_auc', cv=5, verbose=1, n_jobs=4)\n",
    "gsearch3.fit(X_train, y_train)"
   ]
  },
  {
   "cell_type": "code",
   "execution_count": 58,
   "metadata": {
    "ExecuteTime": {
     "end_time": "2021-02-27T08:30:21.759767Z",
     "start_time": "2021-02-27T08:30:21.747649Z"
    }
   },
   "outputs": [
    {
     "data": {
      "text/plain": [
       "({'mean_fit_time': array([5.85695009, 6.52399597, 7.2279984 , 7.10151925, 6.60933805,\n",
       "         6.48704333, 7.30923719, 6.2798038 , 6.64424219, 6.78925624,\n",
       "         6.25306435, 6.10347614, 6.25466132, 6.62826657, 6.67783837,\n",
       "         6.15752354, 6.45532274, 5.98261566, 6.70941834, 7.81140223,\n",
       "         6.17378373, 6.15774379, 6.28532381, 6.52970524, 6.45135145]),\n",
       "  'std_fit_time': array([0.44665851, 0.64648217, 0.38118176, 1.18855535, 0.26189835,\n",
       "         0.67001487, 0.52238676, 0.59741227, 0.55530625, 0.56295736,\n",
       "         0.81280363, 0.56531268, 0.60254261, 0.53260704, 0.51848963,\n",
       "         0.47998597, 0.76958257, 0.06664629, 0.51172053, 0.6135943 ,\n",
       "         0.56016823, 0.64025394, 0.50744703, 0.57249333, 0.53641347]),\n",
       "  'mean_score_time': array([0.90377951, 0.7762794 , 0.82886872, 0.78083401, 0.65162168,\n",
       "         0.81522059, 0.82578664, 0.77693515, 0.75555863, 0.71564717,\n",
       "         0.72626719, 0.76121721, 0.77970581, 0.73443494, 0.69775758,\n",
       "         0.77611866, 0.79547257, 0.68534894, 0.83198953, 0.82308636,\n",
       "         0.762748  , 0.71226454, 0.74214792, 0.75662704, 0.68435659]),\n",
       "  'std_score_time': array([0.12154301, 0.08128414, 0.13467215, 0.10696641, 0.01476251,\n",
       "         0.0675028 , 0.10716326, 0.08383388, 0.14590597, 0.06083958,\n",
       "         0.09680528, 0.09905997, 0.08672018, 0.05673947, 0.10680975,\n",
       "         0.10543529, 0.06972031, 0.02530211, 0.05631725, 0.12854687,\n",
       "         0.05749967, 0.0622458 , 0.10426186, 0.06158707, 0.08622379]),\n",
       "  'param_bagging_fraction': masked_array(data=[0.6, 0.6, 0.6, 0.6, 0.6, 0.7, 0.7, 0.7, 0.7, 0.7, 0.8,\n",
       "                     0.8, 0.8, 0.8, 0.8, 0.9, 0.9, 0.9, 0.9, 0.9, 1.0, 1.0,\n",
       "                     1.0, 1.0, 1.0],\n",
       "               mask=[False, False, False, False, False, False, False, False,\n",
       "                     False, False, False, False, False, False, False, False,\n",
       "                     False, False, False, False, False, False, False, False,\n",
       "                     False],\n",
       "         fill_value='?',\n",
       "              dtype=object),\n",
       "  'param_feature_fraction': masked_array(data=[0.5, 0.6, 0.7, 0.8, 0.9, 0.5, 0.6, 0.7, 0.8, 0.9, 0.5,\n",
       "                     0.6, 0.7, 0.8, 0.9, 0.5, 0.6, 0.7, 0.8, 0.9, 0.5, 0.6,\n",
       "                     0.7, 0.8, 0.9],\n",
       "               mask=[False, False, False, False, False, False, False, False,\n",
       "                     False, False, False, False, False, False, False, False,\n",
       "                     False, False, False, False, False, False, False, False,\n",
       "                     False],\n",
       "         fill_value='?',\n",
       "              dtype=object),\n",
       "  'params': [{'bagging_fraction': 0.6, 'feature_fraction': 0.5},\n",
       "   {'bagging_fraction': 0.6, 'feature_fraction': 0.6},\n",
       "   {'bagging_fraction': 0.6, 'feature_fraction': 0.7},\n",
       "   {'bagging_fraction': 0.6, 'feature_fraction': 0.8},\n",
       "   {'bagging_fraction': 0.6, 'feature_fraction': 0.9},\n",
       "   {'bagging_fraction': 0.7, 'feature_fraction': 0.5},\n",
       "   {'bagging_fraction': 0.7, 'feature_fraction': 0.6},\n",
       "   {'bagging_fraction': 0.7, 'feature_fraction': 0.7},\n",
       "   {'bagging_fraction': 0.7, 'feature_fraction': 0.8},\n",
       "   {'bagging_fraction': 0.7, 'feature_fraction': 0.9},\n",
       "   {'bagging_fraction': 0.8, 'feature_fraction': 0.5},\n",
       "   {'bagging_fraction': 0.8, 'feature_fraction': 0.6},\n",
       "   {'bagging_fraction': 0.8, 'feature_fraction': 0.7},\n",
       "   {'bagging_fraction': 0.8, 'feature_fraction': 0.8},\n",
       "   {'bagging_fraction': 0.8, 'feature_fraction': 0.9},\n",
       "   {'bagging_fraction': 0.9, 'feature_fraction': 0.5},\n",
       "   {'bagging_fraction': 0.9, 'feature_fraction': 0.6},\n",
       "   {'bagging_fraction': 0.9, 'feature_fraction': 0.7},\n",
       "   {'bagging_fraction': 0.9, 'feature_fraction': 0.8},\n",
       "   {'bagging_fraction': 0.9, 'feature_fraction': 0.9},\n",
       "   {'bagging_fraction': 1.0, 'feature_fraction': 0.5},\n",
       "   {'bagging_fraction': 1.0, 'feature_fraction': 0.6},\n",
       "   {'bagging_fraction': 1.0, 'feature_fraction': 0.7},\n",
       "   {'bagging_fraction': 1.0, 'feature_fraction': 0.8},\n",
       "   {'bagging_fraction': 1.0, 'feature_fraction': 0.9}],\n",
       "  'split0_test_score': array([0.70457881, 0.70518721, 0.7058537 , 0.70532526, 0.70569875,\n",
       "         0.70457881, 0.70518721, 0.7058537 , 0.70532526, 0.70569875,\n",
       "         0.70457881, 0.70518721, 0.7058537 , 0.70532526, 0.70569875,\n",
       "         0.70457881, 0.70518721, 0.7058537 , 0.70532526, 0.70569875,\n",
       "         0.70457881, 0.70518721, 0.7058537 , 0.70532526, 0.70569875]),\n",
       "  'split1_test_score': array([0.71080525, 0.71020672, 0.71075464, 0.7108954 , 0.71132987,\n",
       "         0.71080525, 0.71020672, 0.71075464, 0.7108954 , 0.71132987,\n",
       "         0.71080525, 0.71020672, 0.71075464, 0.7108954 , 0.71132987,\n",
       "         0.71080525, 0.71020672, 0.71075464, 0.7108954 , 0.71132987,\n",
       "         0.71080525, 0.71020672, 0.71075464, 0.7108954 , 0.71132987]),\n",
       "  'split2_test_score': array([0.71528875, 0.71530971, 0.71587099, 0.71597447, 0.71597582,\n",
       "         0.71528875, 0.71530971, 0.71587099, 0.71597447, 0.71597582,\n",
       "         0.71528875, 0.71530971, 0.71587099, 0.71597447, 0.71597582,\n",
       "         0.71528875, 0.71530971, 0.71587099, 0.71597447, 0.71597582,\n",
       "         0.71528875, 0.71530971, 0.71587099, 0.71597447, 0.71597582]),\n",
       "  'split3_test_score': array([0.70997792, 0.71124873, 0.71131992, 0.71031665, 0.71085268,\n",
       "         0.70997792, 0.71124873, 0.71131992, 0.71031665, 0.71085268,\n",
       "         0.70997792, 0.71124873, 0.71131992, 0.71031665, 0.71085268,\n",
       "         0.70997792, 0.71124873, 0.71131992, 0.71031665, 0.71085268,\n",
       "         0.70997792, 0.71124873, 0.71131992, 0.71031665, 0.71085268]),\n",
       "  'split4_test_score': array([0.70718319, 0.70822267, 0.70840329, 0.70768389, 0.70598634,\n",
       "         0.70718319, 0.70822267, 0.70840329, 0.70768389, 0.70598634,\n",
       "         0.70718319, 0.70822267, 0.70840329, 0.70768389, 0.70598634,\n",
       "         0.70718319, 0.70822267, 0.70840329, 0.70768389, 0.70598634,\n",
       "         0.70718319, 0.70822267, 0.70840329, 0.70768389, 0.70598634]),\n",
       "  'mean_test_score': array([0.70956679, 0.71003501, 0.71044051, 0.71003913, 0.70996869,\n",
       "         0.70956679, 0.71003501, 0.71044051, 0.71003913, 0.70996869,\n",
       "         0.70956679, 0.71003501, 0.71044051, 0.71003913, 0.70996869,\n",
       "         0.70956679, 0.71003501, 0.71044051, 0.71003913, 0.70996869,\n",
       "         0.70956679, 0.71003501, 0.71044051, 0.71003913, 0.70996869]),\n",
       "  'std_test_score': array([0.00360569, 0.00334995, 0.00333321, 0.00357229, 0.00381605,\n",
       "         0.00360569, 0.00334995, 0.00333321, 0.00357229, 0.00381605,\n",
       "         0.00360569, 0.00334995, 0.00333321, 0.00357229, 0.00381605,\n",
       "         0.00360569, 0.00334995, 0.00333321, 0.00357229, 0.00381605,\n",
       "         0.00360569, 0.00334995, 0.00333321, 0.00357229, 0.00381605]),\n",
       "  'rank_test_score': array([21, 11,  1,  6, 16, 21, 11,  1,  6, 16, 21, 11,  1,  6, 16, 21, 11,\n",
       "          1,  6, 16, 21, 11,  1,  6, 16])},\n",
       " {'bagging_fraction': 0.6, 'feature_fraction': 0.7},\n",
       " 0.710440506346355)"
      ]
     },
     "execution_count": 58,
     "metadata": {},
     "output_type": "execute_result"
    }
   ],
   "source": [
    "gsearch3.cv_results_, gsearch3.best_params_, gsearch3.best_score_"
   ]
  },
  {
   "cell_type": "markdown",
   "metadata": {},
   "source": [
    "正则化调参：  \n",
    "reg_alpha和reg_lambda，之前调参最优的是0和1，则不再进行这步"
   ]
  },
  {
   "cell_type": "code",
   "execution_count": 60,
   "metadata": {
    "ExecuteTime": {
     "end_time": "2021-02-27T08:39:19.588520Z",
     "start_time": "2021-02-27T08:39:19.583996Z"
    }
   },
   "outputs": [],
   "source": [
    "model_lgb = lgb.LGBMClassifier(\n",
    "    n_estimators=400,\n",
    "    objective='binary',\n",
    "    subsample=0.6,\n",
    "    colsample_bytree=0.7,\n",
    "    max_depth=3,\n",
    "    num_leaves=50,\n",
    "    learning_rate=0.05,\n",
    "    reg_lambda=1,\n",
    "    min_child_samples=22,\n",
    "    min_child_weight=0.001,\n",
    "    metric=['auc']\n",
    ")"
   ]
  },
  {
   "cell_type": "code",
   "execution_count": 61,
   "metadata": {
    "ExecuteTime": {
     "end_time": "2021-02-27T08:39:40.444100Z",
     "start_time": "2021-02-27T08:39:29.794855Z"
    },
    "scrolled": true
   },
   "outputs": [
    {
     "name": "stdout",
     "output_type": "stream",
     "text": [
      "[1]\ttraining's auc: 0.605148\tvalid_1's auc: 0.595876\n",
      "Training until validation scores don't improve for 30 rounds\n",
      "[2]\ttraining's auc: 0.649792\tvalid_1's auc: 0.641222\n",
      "[3]\ttraining's auc: 0.659214\tvalid_1's auc: 0.653886\n",
      "[4]\ttraining's auc: 0.66043\tvalid_1's auc: 0.654789\n",
      "[5]\ttraining's auc: 0.66075\tvalid_1's auc: 0.656114\n",
      "[6]\ttraining's auc: 0.660444\tvalid_1's auc: 0.65527\n",
      "[7]\ttraining's auc: 0.659937\tvalid_1's auc: 0.655097\n",
      "[8]\ttraining's auc: 0.662827\tvalid_1's auc: 0.658063\n",
      "[9]\ttraining's auc: 0.662445\tvalid_1's auc: 0.657269\n",
      "[10]\ttraining's auc: 0.664521\tvalid_1's auc: 0.659494\n",
      "[11]\ttraining's auc: 0.665378\tvalid_1's auc: 0.660421\n",
      "[12]\ttraining's auc: 0.665884\tvalid_1's auc: 0.661563\n",
      "[13]\ttraining's auc: 0.672019\tvalid_1's auc: 0.666508\n",
      "[14]\ttraining's auc: 0.671736\tvalid_1's auc: 0.665959\n",
      "[15]\ttraining's auc: 0.674166\tvalid_1's auc: 0.668021\n",
      "[16]\ttraining's auc: 0.674101\tvalid_1's auc: 0.668248\n",
      "[17]\ttraining's auc: 0.676142\tvalid_1's auc: 0.670123\n",
      "[18]\ttraining's auc: 0.676308\tvalid_1's auc: 0.670439\n",
      "[19]\ttraining's auc: 0.677811\tvalid_1's auc: 0.671664\n",
      "[20]\ttraining's auc: 0.678605\tvalid_1's auc: 0.672557\n",
      "[21]\ttraining's auc: 0.678788\tvalid_1's auc: 0.67254\n",
      "[22]\ttraining's auc: 0.678796\tvalid_1's auc: 0.672476\n",
      "[23]\ttraining's auc: 0.679456\tvalid_1's auc: 0.672638\n",
      "[24]\ttraining's auc: 0.680509\tvalid_1's auc: 0.673661\n",
      "[25]\ttraining's auc: 0.682415\tvalid_1's auc: 0.675232\n",
      "[26]\ttraining's auc: 0.682182\tvalid_1's auc: 0.675283\n",
      "[27]\ttraining's auc: 0.682039\tvalid_1's auc: 0.675325\n",
      "[28]\ttraining's auc: 0.682211\tvalid_1's auc: 0.675466\n",
      "[29]\ttraining's auc: 0.682616\tvalid_1's auc: 0.67584\n",
      "[30]\ttraining's auc: 0.683436\tvalid_1's auc: 0.676597\n",
      "[31]\ttraining's auc: 0.684763\tvalid_1's auc: 0.677931\n",
      "[32]\ttraining's auc: 0.685772\tvalid_1's auc: 0.678927\n",
      "[33]\ttraining's auc: 0.685556\tvalid_1's auc: 0.678859\n",
      "[34]\ttraining's auc: 0.686086\tvalid_1's auc: 0.679161\n",
      "[35]\ttraining's auc: 0.687576\tvalid_1's auc: 0.680519\n",
      "[36]\ttraining's auc: 0.687946\tvalid_1's auc: 0.680931\n",
      "[37]\ttraining's auc: 0.687995\tvalid_1's auc: 0.681034\n",
      "[38]\ttraining's auc: 0.688274\tvalid_1's auc: 0.68142\n",
      "[39]\ttraining's auc: 0.690175\tvalid_1's auc: 0.683129\n",
      "[40]\ttraining's auc: 0.690906\tvalid_1's auc: 0.683812\n",
      "[41]\ttraining's auc: 0.691039\tvalid_1's auc: 0.684045\n",
      "[42]\ttraining's auc: 0.69201\tvalid_1's auc: 0.684887\n",
      "[43]\ttraining's auc: 0.692386\tvalid_1's auc: 0.685342\n",
      "[44]\ttraining's auc: 0.692714\tvalid_1's auc: 0.685509\n",
      "[45]\ttraining's auc: 0.69316\tvalid_1's auc: 0.685695\n",
      "[46]\ttraining's auc: 0.694019\tvalid_1's auc: 0.686562\n",
      "[47]\ttraining's auc: 0.694005\tvalid_1's auc: 0.68663\n",
      "[48]\ttraining's auc: 0.694259\tvalid_1's auc: 0.686666\n",
      "[49]\ttraining's auc: 0.695456\tvalid_1's auc: 0.687692\n",
      "[50]\ttraining's auc: 0.695892\tvalid_1's auc: 0.688119\n",
      "[51]\ttraining's auc: 0.696274\tvalid_1's auc: 0.688329\n",
      "[52]\ttraining's auc: 0.696394\tvalid_1's auc: 0.688459\n",
      "[53]\ttraining's auc: 0.696943\tvalid_1's auc: 0.68894\n",
      "[54]\ttraining's auc: 0.697106\tvalid_1's auc: 0.689083\n",
      "[55]\ttraining's auc: 0.697395\tvalid_1's auc: 0.689393\n",
      "[56]\ttraining's auc: 0.698129\tvalid_1's auc: 0.690099\n",
      "[57]\ttraining's auc: 0.698042\tvalid_1's auc: 0.690094\n",
      "[58]\ttraining's auc: 0.698455\tvalid_1's auc: 0.690464\n",
      "[59]\ttraining's auc: 0.698328\tvalid_1's auc: 0.69044\n",
      "[60]\ttraining's auc: 0.698783\tvalid_1's auc: 0.690894\n",
      "[61]\ttraining's auc: 0.699143\tvalid_1's auc: 0.691168\n",
      "[62]\ttraining's auc: 0.699509\tvalid_1's auc: 0.691685\n",
      "[63]\ttraining's auc: 0.699976\tvalid_1's auc: 0.692083\n",
      "[64]\ttraining's auc: 0.700503\tvalid_1's auc: 0.692564\n",
      "[65]\ttraining's auc: 0.700899\tvalid_1's auc: 0.692892\n",
      "[66]\ttraining's auc: 0.701235\tvalid_1's auc: 0.693074\n",
      "[67]\ttraining's auc: 0.701441\tvalid_1's auc: 0.693302\n",
      "[68]\ttraining's auc: 0.701842\tvalid_1's auc: 0.693629\n",
      "[69]\ttraining's auc: 0.702128\tvalid_1's auc: 0.693736\n",
      "[70]\ttraining's auc: 0.702401\tvalid_1's auc: 0.693964\n",
      "[71]\ttraining's auc: 0.702672\tvalid_1's auc: 0.694054\n",
      "[72]\ttraining's auc: 0.702891\tvalid_1's auc: 0.694224\n",
      "[73]\ttraining's auc: 0.703399\tvalid_1's auc: 0.69469\n",
      "[74]\ttraining's auc: 0.703828\tvalid_1's auc: 0.69515\n",
      "[75]\ttraining's auc: 0.704089\tvalid_1's auc: 0.69533\n",
      "[76]\ttraining's auc: 0.704292\tvalid_1's auc: 0.695427\n",
      "[77]\ttraining's auc: 0.704676\tvalid_1's auc: 0.695744\n",
      "[78]\ttraining's auc: 0.704867\tvalid_1's auc: 0.696001\n",
      "[79]\ttraining's auc: 0.70513\tvalid_1's auc: 0.696252\n",
      "[80]\ttraining's auc: 0.705565\tvalid_1's auc: 0.696793\n",
      "[81]\ttraining's auc: 0.705798\tvalid_1's auc: 0.696953\n",
      "[82]\ttraining's auc: 0.70615\tvalid_1's auc: 0.697222\n",
      "[83]\ttraining's auc: 0.706328\tvalid_1's auc: 0.697282\n",
      "[84]\ttraining's auc: 0.706452\tvalid_1's auc: 0.697447\n",
      "[85]\ttraining's auc: 0.706557\tvalid_1's auc: 0.697564\n",
      "[86]\ttraining's auc: 0.706756\tvalid_1's auc: 0.697578\n",
      "[87]\ttraining's auc: 0.706918\tvalid_1's auc: 0.69783\n",
      "[88]\ttraining's auc: 0.707064\tvalid_1's auc: 0.697982\n",
      "[89]\ttraining's auc: 0.707281\tvalid_1's auc: 0.698176\n",
      "[90]\ttraining's auc: 0.707702\tvalid_1's auc: 0.698602\n",
      "[91]\ttraining's auc: 0.707818\tvalid_1's auc: 0.69874\n",
      "[92]\ttraining's auc: 0.708006\tvalid_1's auc: 0.698843\n",
      "[93]\ttraining's auc: 0.708238\tvalid_1's auc: 0.699039\n",
      "[94]\ttraining's auc: 0.708438\tvalid_1's auc: 0.699176\n",
      "[95]\ttraining's auc: 0.708534\tvalid_1's auc: 0.699215\n",
      "[96]\ttraining's auc: 0.708689\tvalid_1's auc: 0.69938\n",
      "[97]\ttraining's auc: 0.708862\tvalid_1's auc: 0.699516\n",
      "[98]\ttraining's auc: 0.709187\tvalid_1's auc: 0.699833\n",
      "[99]\ttraining's auc: 0.709296\tvalid_1's auc: 0.69988\n",
      "[100]\ttraining's auc: 0.709417\tvalid_1's auc: 0.699937\n",
      "[101]\ttraining's auc: 0.709598\tvalid_1's auc: 0.700031\n",
      "[102]\ttraining's auc: 0.709732\tvalid_1's auc: 0.700166\n",
      "[103]\ttraining's auc: 0.709878\tvalid_1's auc: 0.70025\n",
      "[104]\ttraining's auc: 0.710015\tvalid_1's auc: 0.700398\n",
      "[105]\ttraining's auc: 0.710159\tvalid_1's auc: 0.700483\n",
      "[106]\ttraining's auc: 0.71032\tvalid_1's auc: 0.700553\n",
      "[107]\ttraining's auc: 0.710525\tvalid_1's auc: 0.700717\n",
      "[108]\ttraining's auc: 0.710581\tvalid_1's auc: 0.700738\n",
      "[109]\ttraining's auc: 0.710674\tvalid_1's auc: 0.700719\n",
      "[110]\ttraining's auc: 0.710853\tvalid_1's auc: 0.700857\n",
      "[111]\ttraining's auc: 0.710975\tvalid_1's auc: 0.700851\n",
      "[112]\ttraining's auc: 0.711197\tvalid_1's auc: 0.701032\n",
      "[113]\ttraining's auc: 0.711363\tvalid_1's auc: 0.701151\n",
      "[114]\ttraining's auc: 0.711526\tvalid_1's auc: 0.701254\n",
      "[115]\ttraining's auc: 0.711565\tvalid_1's auc: 0.701225\n",
      "[116]\ttraining's auc: 0.711786\tvalid_1's auc: 0.701399\n",
      "[117]\ttraining's auc: 0.711916\tvalid_1's auc: 0.701485\n",
      "[118]\ttraining's auc: 0.712087\tvalid_1's auc: 0.701575\n",
      "[119]\ttraining's auc: 0.712172\tvalid_1's auc: 0.701654\n",
      "[120]\ttraining's auc: 0.712354\tvalid_1's auc: 0.701769\n",
      "[121]\ttraining's auc: 0.712507\tvalid_1's auc: 0.701894\n",
      "[122]\ttraining's auc: 0.712527\tvalid_1's auc: 0.70191\n",
      "[123]\ttraining's auc: 0.712698\tvalid_1's auc: 0.70202\n",
      "[124]\ttraining's auc: 0.712829\tvalid_1's auc: 0.702108\n",
      "[125]\ttraining's auc: 0.712969\tvalid_1's auc: 0.702237\n",
      "[126]\ttraining's auc: 0.713104\tvalid_1's auc: 0.702384\n",
      "[127]\ttraining's auc: 0.713138\tvalid_1's auc: 0.702372\n",
      "[128]\ttraining's auc: 0.71326\tvalid_1's auc: 0.702437\n",
      "[129]\ttraining's auc: 0.713323\tvalid_1's auc: 0.702493\n",
      "[130]\ttraining's auc: 0.713535\tvalid_1's auc: 0.702827\n",
      "[131]\ttraining's auc: 0.713592\tvalid_1's auc: 0.7029\n",
      "[132]\ttraining's auc: 0.713712\tvalid_1's auc: 0.703029\n",
      "[133]\ttraining's auc: 0.713869\tvalid_1's auc: 0.70312\n",
      "[134]\ttraining's auc: 0.713892\tvalid_1's auc: 0.703093\n",
      "[135]\ttraining's auc: 0.713931\tvalid_1's auc: 0.703099\n",
      "[136]\ttraining's auc: 0.714041\tvalid_1's auc: 0.70322\n",
      "[137]\ttraining's auc: 0.714149\tvalid_1's auc: 0.703279\n",
      "[138]\ttraining's auc: 0.714304\tvalid_1's auc: 0.703321\n",
      "[139]\ttraining's auc: 0.714449\tvalid_1's auc: 0.703448\n",
      "[140]\ttraining's auc: 0.714491\tvalid_1's auc: 0.703469\n",
      "[141]\ttraining's auc: 0.714589\tvalid_1's auc: 0.703481\n",
      "[142]\ttraining's auc: 0.714738\tvalid_1's auc: 0.703585\n",
      "[143]\ttraining's auc: 0.714769\tvalid_1's auc: 0.703558\n",
      "[144]\ttraining's auc: 0.714857\tvalid_1's auc: 0.703627\n",
      "[145]\ttraining's auc: 0.715043\tvalid_1's auc: 0.703746\n",
      "[146]\ttraining's auc: 0.715203\tvalid_1's auc: 0.703858\n",
      "[147]\ttraining's auc: 0.71529\tvalid_1's auc: 0.703867\n",
      "[148]\ttraining's auc: 0.715385\tvalid_1's auc: 0.703896\n",
      "[149]\ttraining's auc: 0.715401\tvalid_1's auc: 0.703913\n",
      "[150]\ttraining's auc: 0.715516\tvalid_1's auc: 0.70401\n",
      "[151]\ttraining's auc: 0.715614\tvalid_1's auc: 0.704063\n"
     ]
    },
    {
     "name": "stdout",
     "output_type": "stream",
     "text": [
      "[152]\ttraining's auc: 0.715736\tvalid_1's auc: 0.704162\n",
      "[153]\ttraining's auc: 0.715871\tvalid_1's auc: 0.704265\n",
      "[154]\ttraining's auc: 0.715928\tvalid_1's auc: 0.704217\n",
      "[155]\ttraining's auc: 0.716025\tvalid_1's auc: 0.704317\n",
      "[156]\ttraining's auc: 0.716165\tvalid_1's auc: 0.704383\n",
      "[157]\ttraining's auc: 0.716195\tvalid_1's auc: 0.704348\n",
      "[158]\ttraining's auc: 0.716306\tvalid_1's auc: 0.704431\n",
      "[159]\ttraining's auc: 0.716376\tvalid_1's auc: 0.704455\n",
      "[160]\ttraining's auc: 0.716478\tvalid_1's auc: 0.704466\n",
      "[161]\ttraining's auc: 0.716581\tvalid_1's auc: 0.704529\n",
      "[162]\ttraining's auc: 0.716582\tvalid_1's auc: 0.704495\n",
      "[163]\ttraining's auc: 0.716668\tvalid_1's auc: 0.704558\n",
      "[164]\ttraining's auc: 0.716758\tvalid_1's auc: 0.704638\n",
      "[165]\ttraining's auc: 0.716853\tvalid_1's auc: 0.704676\n",
      "[166]\ttraining's auc: 0.71687\tvalid_1's auc: 0.704753\n",
      "[167]\ttraining's auc: 0.716931\tvalid_1's auc: 0.704742\n",
      "[168]\ttraining's auc: 0.717001\tvalid_1's auc: 0.704763\n",
      "[169]\ttraining's auc: 0.717069\tvalid_1's auc: 0.704789\n",
      "[170]\ttraining's auc: 0.717148\tvalid_1's auc: 0.704813\n",
      "[171]\ttraining's auc: 0.717233\tvalid_1's auc: 0.704844\n",
      "[172]\ttraining's auc: 0.717294\tvalid_1's auc: 0.704879\n",
      "[173]\ttraining's auc: 0.717346\tvalid_1's auc: 0.704931\n",
      "[174]\ttraining's auc: 0.71744\tvalid_1's auc: 0.704943\n",
      "[175]\ttraining's auc: 0.717499\tvalid_1's auc: 0.70497\n",
      "[176]\ttraining's auc: 0.717541\tvalid_1's auc: 0.70501\n",
      "[177]\ttraining's auc: 0.717619\tvalid_1's auc: 0.705016\n",
      "[178]\ttraining's auc: 0.717762\tvalid_1's auc: 0.705241\n",
      "[179]\ttraining's auc: 0.71782\tvalid_1's auc: 0.705198\n",
      "[180]\ttraining's auc: 0.717926\tvalid_1's auc: 0.705223\n",
      "[181]\ttraining's auc: 0.718006\tvalid_1's auc: 0.70528\n",
      "[182]\ttraining's auc: 0.718086\tvalid_1's auc: 0.705325\n",
      "[183]\ttraining's auc: 0.718124\tvalid_1's auc: 0.705291\n",
      "[184]\ttraining's auc: 0.718217\tvalid_1's auc: 0.705311\n",
      "[185]\ttraining's auc: 0.718283\tvalid_1's auc: 0.705323\n",
      "[186]\ttraining's auc: 0.718373\tvalid_1's auc: 0.705326\n",
      "[187]\ttraining's auc: 0.718455\tvalid_1's auc: 0.705377\n",
      "[188]\ttraining's auc: 0.718468\tvalid_1's auc: 0.705419\n",
      "[189]\ttraining's auc: 0.718592\tvalid_1's auc: 0.70553\n",
      "[190]\ttraining's auc: 0.718642\tvalid_1's auc: 0.705488\n",
      "[191]\ttraining's auc: 0.718688\tvalid_1's auc: 0.705457\n",
      "[192]\ttraining's auc: 0.718726\tvalid_1's auc: 0.705502\n",
      "[193]\ttraining's auc: 0.718819\tvalid_1's auc: 0.705511\n",
      "[194]\ttraining's auc: 0.718896\tvalid_1's auc: 0.705577\n",
      "[195]\ttraining's auc: 0.719\tvalid_1's auc: 0.705636\n",
      "[196]\ttraining's auc: 0.719074\tvalid_1's auc: 0.705625\n",
      "[197]\ttraining's auc: 0.719146\tvalid_1's auc: 0.705589\n",
      "[198]\ttraining's auc: 0.719238\tvalid_1's auc: 0.705612\n",
      "[199]\ttraining's auc: 0.719271\tvalid_1's auc: 0.705639\n",
      "[200]\ttraining's auc: 0.719359\tvalid_1's auc: 0.705714\n",
      "[201]\ttraining's auc: 0.71943\tvalid_1's auc: 0.70575\n",
      "[202]\ttraining's auc: 0.719505\tvalid_1's auc: 0.705862\n",
      "[203]\ttraining's auc: 0.719569\tvalid_1's auc: 0.70592\n",
      "[204]\ttraining's auc: 0.719619\tvalid_1's auc: 0.70591\n",
      "[205]\ttraining's auc: 0.719665\tvalid_1's auc: 0.705892\n",
      "[206]\ttraining's auc: 0.719684\tvalid_1's auc: 0.705838\n",
      "[207]\ttraining's auc: 0.719756\tvalid_1's auc: 0.705845\n",
      "[208]\ttraining's auc: 0.719823\tvalid_1's auc: 0.705882\n",
      "[209]\ttraining's auc: 0.719924\tvalid_1's auc: 0.705998\n",
      "[210]\ttraining's auc: 0.720007\tvalid_1's auc: 0.706095\n",
      "[211]\ttraining's auc: 0.720085\tvalid_1's auc: 0.706122\n",
      "[212]\ttraining's auc: 0.720094\tvalid_1's auc: 0.706156\n",
      "[213]\ttraining's auc: 0.720141\tvalid_1's auc: 0.706131\n",
      "[214]\ttraining's auc: 0.720187\tvalid_1's auc: 0.70614\n",
      "[215]\ttraining's auc: 0.720241\tvalid_1's auc: 0.706107\n",
      "[216]\ttraining's auc: 0.720257\tvalid_1's auc: 0.706124\n",
      "[217]\ttraining's auc: 0.72033\tvalid_1's auc: 0.706277\n",
      "[218]\ttraining's auc: 0.720395\tvalid_1's auc: 0.706316\n",
      "[219]\ttraining's auc: 0.720447\tvalid_1's auc: 0.706392\n",
      "[220]\ttraining's auc: 0.720483\tvalid_1's auc: 0.706376\n",
      "[221]\ttraining's auc: 0.72051\tvalid_1's auc: 0.706443\n",
      "[222]\ttraining's auc: 0.720583\tvalid_1's auc: 0.706461\n",
      "[223]\ttraining's auc: 0.720642\tvalid_1's auc: 0.706495\n",
      "[224]\ttraining's auc: 0.720742\tvalid_1's auc: 0.70647\n",
      "[225]\ttraining's auc: 0.720749\tvalid_1's auc: 0.70645\n",
      "[226]\ttraining's auc: 0.72079\tvalid_1's auc: 0.706471\n",
      "[227]\ttraining's auc: 0.720889\tvalid_1's auc: 0.706577\n",
      "[228]\ttraining's auc: 0.720957\tvalid_1's auc: 0.706593\n",
      "[229]\ttraining's auc: 0.721076\tvalid_1's auc: 0.706617\n",
      "[230]\ttraining's auc: 0.721136\tvalid_1's auc: 0.706598\n",
      "[231]\ttraining's auc: 0.721166\tvalid_1's auc: 0.706572\n",
      "[232]\ttraining's auc: 0.7212\tvalid_1's auc: 0.7066\n",
      "[233]\ttraining's auc: 0.721247\tvalid_1's auc: 0.706593\n",
      "[234]\ttraining's auc: 0.721306\tvalid_1's auc: 0.70659\n",
      "[235]\ttraining's auc: 0.721364\tvalid_1's auc: 0.706566\n",
      "[236]\ttraining's auc: 0.721447\tvalid_1's auc: 0.706547\n",
      "[237]\ttraining's auc: 0.721514\tvalid_1's auc: 0.706578\n",
      "[238]\ttraining's auc: 0.721574\tvalid_1's auc: 0.706577\n",
      "[239]\ttraining's auc: 0.721619\tvalid_1's auc: 0.706576\n",
      "[240]\ttraining's auc: 0.721678\tvalid_1's auc: 0.706614\n",
      "[241]\ttraining's auc: 0.721725\tvalid_1's auc: 0.706616\n",
      "[242]\ttraining's auc: 0.721798\tvalid_1's auc: 0.706594\n",
      "[243]\ttraining's auc: 0.721835\tvalid_1's auc: 0.706599\n",
      "[244]\ttraining's auc: 0.72188\tvalid_1's auc: 0.706611\n",
      "[245]\ttraining's auc: 0.721914\tvalid_1's auc: 0.70664\n",
      "[246]\ttraining's auc: 0.721964\tvalid_1's auc: 0.706682\n",
      "[247]\ttraining's auc: 0.722042\tvalid_1's auc: 0.706751\n",
      "[248]\ttraining's auc: 0.722134\tvalid_1's auc: 0.706797\n",
      "[249]\ttraining's auc: 0.72219\tvalid_1's auc: 0.706805\n",
      "[250]\ttraining's auc: 0.72225\tvalid_1's auc: 0.706822\n",
      "[251]\ttraining's auc: 0.722309\tvalid_1's auc: 0.706845\n",
      "[252]\ttraining's auc: 0.722318\tvalid_1's auc: 0.706831\n",
      "[253]\ttraining's auc: 0.722398\tvalid_1's auc: 0.706874\n",
      "[254]\ttraining's auc: 0.722464\tvalid_1's auc: 0.706872\n",
      "[255]\ttraining's auc: 0.722488\tvalid_1's auc: 0.706865\n",
      "[256]\ttraining's auc: 0.722531\tvalid_1's auc: 0.706978\n",
      "[257]\ttraining's auc: 0.722597\tvalid_1's auc: 0.706998\n",
      "[258]\ttraining's auc: 0.722655\tvalid_1's auc: 0.707014\n",
      "[259]\ttraining's auc: 0.722723\tvalid_1's auc: 0.707013\n",
      "[260]\ttraining's auc: 0.72277\tvalid_1's auc: 0.706996\n",
      "[261]\ttraining's auc: 0.722832\tvalid_1's auc: 0.707014\n",
      "[262]\ttraining's auc: 0.722847\tvalid_1's auc: 0.707022\n",
      "[263]\ttraining's auc: 0.72288\tvalid_1's auc: 0.707025\n",
      "[264]\ttraining's auc: 0.722935\tvalid_1's auc: 0.707076\n",
      "[265]\ttraining's auc: 0.722968\tvalid_1's auc: 0.707036\n",
      "[266]\ttraining's auc: 0.723011\tvalid_1's auc: 0.707074\n",
      "[267]\ttraining's auc: 0.723058\tvalid_1's auc: 0.707097\n",
      "[268]\ttraining's auc: 0.723115\tvalid_1's auc: 0.707105\n",
      "[269]\ttraining's auc: 0.723136\tvalid_1's auc: 0.707105\n",
      "[270]\ttraining's auc: 0.723178\tvalid_1's auc: 0.707111\n",
      "[271]\ttraining's auc: 0.723242\tvalid_1's auc: 0.707101\n",
      "[272]\ttraining's auc: 0.723243\tvalid_1's auc: 0.707089\n",
      "[273]\ttraining's auc: 0.72329\tvalid_1's auc: 0.707135\n",
      "[274]\ttraining's auc: 0.72333\tvalid_1's auc: 0.707127\n",
      "[275]\ttraining's auc: 0.723413\tvalid_1's auc: 0.707186\n",
      "[276]\ttraining's auc: 0.723486\tvalid_1's auc: 0.707205\n",
      "[277]\ttraining's auc: 0.723511\tvalid_1's auc: 0.707171\n",
      "[278]\ttraining's auc: 0.723561\tvalid_1's auc: 0.707151\n",
      "[279]\ttraining's auc: 0.723597\tvalid_1's auc: 0.707154\n",
      "[280]\ttraining's auc: 0.723655\tvalid_1's auc: 0.707179\n",
      "[281]\ttraining's auc: 0.723681\tvalid_1's auc: 0.707177\n",
      "[282]\ttraining's auc: 0.72373\tvalid_1's auc: 0.707212\n",
      "[283]\ttraining's auc: 0.723762\tvalid_1's auc: 0.707237\n",
      "[284]\ttraining's auc: 0.723811\tvalid_1's auc: 0.707221\n",
      "[285]\ttraining's auc: 0.723852\tvalid_1's auc: 0.707247\n",
      "[286]\ttraining's auc: 0.723914\tvalid_1's auc: 0.70731\n",
      "[287]\ttraining's auc: 0.723964\tvalid_1's auc: 0.707286\n",
      "[288]\ttraining's auc: 0.723968\tvalid_1's auc: 0.707295\n",
      "[289]\ttraining's auc: 0.724038\tvalid_1's auc: 0.70728\n",
      "[290]\ttraining's auc: 0.724074\tvalid_1's auc: 0.707302\n",
      "[291]\ttraining's auc: 0.724122\tvalid_1's auc: 0.707325\n",
      "[292]\ttraining's auc: 0.724173\tvalid_1's auc: 0.707316\n",
      "[293]\ttraining's auc: 0.724237\tvalid_1's auc: 0.707362\n",
      "[294]\ttraining's auc: 0.724257\tvalid_1's auc: 0.707353\n",
      "[295]\ttraining's auc: 0.724339\tvalid_1's auc: 0.707372\n",
      "[296]\ttraining's auc: 0.724398\tvalid_1's auc: 0.707415\n",
      "[297]\ttraining's auc: 0.72445\tvalid_1's auc: 0.707441\n",
      "[298]\ttraining's auc: 0.724509\tvalid_1's auc: 0.707452\n",
      "[299]\ttraining's auc: 0.724528\tvalid_1's auc: 0.707462\n",
      "[300]\ttraining's auc: 0.724578\tvalid_1's auc: 0.707451\n",
      "[301]\ttraining's auc: 0.724595\tvalid_1's auc: 0.70743\n",
      "[302]\ttraining's auc: 0.724633\tvalid_1's auc: 0.70746\n",
      "[303]\ttraining's auc: 0.724684\tvalid_1's auc: 0.707483\n"
     ]
    },
    {
     "name": "stdout",
     "output_type": "stream",
     "text": [
      "[304]\ttraining's auc: 0.724715\tvalid_1's auc: 0.707468\n",
      "[305]\ttraining's auc: 0.724783\tvalid_1's auc: 0.707447\n",
      "[306]\ttraining's auc: 0.724843\tvalid_1's auc: 0.707436\n",
      "[307]\ttraining's auc: 0.724896\tvalid_1's auc: 0.707414\n",
      "[308]\ttraining's auc: 0.724935\tvalid_1's auc: 0.707429\n",
      "[309]\ttraining's auc: 0.724985\tvalid_1's auc: 0.707464\n",
      "[310]\ttraining's auc: 0.724997\tvalid_1's auc: 0.707508\n",
      "[311]\ttraining's auc: 0.725024\tvalid_1's auc: 0.707514\n",
      "[312]\ttraining's auc: 0.725061\tvalid_1's auc: 0.70751\n",
      "[313]\ttraining's auc: 0.725131\tvalid_1's auc: 0.707535\n",
      "[314]\ttraining's auc: 0.725178\tvalid_1's auc: 0.707548\n",
      "[315]\ttraining's auc: 0.725211\tvalid_1's auc: 0.707554\n",
      "[316]\ttraining's auc: 0.725265\tvalid_1's auc: 0.707534\n",
      "[317]\ttraining's auc: 0.725312\tvalid_1's auc: 0.707533\n",
      "[318]\ttraining's auc: 0.725375\tvalid_1's auc: 0.707555\n",
      "[319]\ttraining's auc: 0.725434\tvalid_1's auc: 0.707572\n",
      "[320]\ttraining's auc: 0.725487\tvalid_1's auc: 0.707587\n",
      "[321]\ttraining's auc: 0.725526\tvalid_1's auc: 0.707591\n",
      "[322]\ttraining's auc: 0.72557\tvalid_1's auc: 0.707565\n",
      "[323]\ttraining's auc: 0.725649\tvalid_1's auc: 0.707619\n",
      "[324]\ttraining's auc: 0.725724\tvalid_1's auc: 0.707636\n",
      "[325]\ttraining's auc: 0.725755\tvalid_1's auc: 0.707621\n",
      "[326]\ttraining's auc: 0.725754\tvalid_1's auc: 0.707625\n",
      "[327]\ttraining's auc: 0.725804\tvalid_1's auc: 0.70763\n",
      "[328]\ttraining's auc: 0.725889\tvalid_1's auc: 0.707628\n",
      "[329]\ttraining's auc: 0.725915\tvalid_1's auc: 0.707662\n",
      "[330]\ttraining's auc: 0.725947\tvalid_1's auc: 0.707654\n",
      "[331]\ttraining's auc: 0.725982\tvalid_1's auc: 0.707666\n",
      "[332]\ttraining's auc: 0.726059\tvalid_1's auc: 0.707718\n",
      "[333]\ttraining's auc: 0.726114\tvalid_1's auc: 0.707732\n",
      "[334]\ttraining's auc: 0.726139\tvalid_1's auc: 0.707702\n",
      "[335]\ttraining's auc: 0.726143\tvalid_1's auc: 0.707726\n",
      "[336]\ttraining's auc: 0.726205\tvalid_1's auc: 0.707765\n",
      "[337]\ttraining's auc: 0.726268\tvalid_1's auc: 0.707771\n",
      "[338]\ttraining's auc: 0.726294\tvalid_1's auc: 0.707838\n",
      "[339]\ttraining's auc: 0.726346\tvalid_1's auc: 0.707874\n",
      "[340]\ttraining's auc: 0.72643\tvalid_1's auc: 0.707892\n",
      "[341]\ttraining's auc: 0.726489\tvalid_1's auc: 0.707873\n",
      "[342]\ttraining's auc: 0.726532\tvalid_1's auc: 0.707853\n",
      "[343]\ttraining's auc: 0.726557\tvalid_1's auc: 0.707852\n",
      "[344]\ttraining's auc: 0.726622\tvalid_1's auc: 0.70787\n",
      "[345]\ttraining's auc: 0.726626\tvalid_1's auc: 0.707894\n",
      "[346]\ttraining's auc: 0.726721\tvalid_1's auc: 0.70796\n",
      "[347]\ttraining's auc: 0.726798\tvalid_1's auc: 0.707967\n",
      "[348]\ttraining's auc: 0.726851\tvalid_1's auc: 0.707975\n",
      "[349]\ttraining's auc: 0.726873\tvalid_1's auc: 0.707956\n",
      "[350]\ttraining's auc: 0.726904\tvalid_1's auc: 0.707968\n",
      "[351]\ttraining's auc: 0.726946\tvalid_1's auc: 0.707949\n",
      "[352]\ttraining's auc: 0.727007\tvalid_1's auc: 0.707932\n",
      "[353]\ttraining's auc: 0.727063\tvalid_1's auc: 0.707929\n",
      "[354]\ttraining's auc: 0.727066\tvalid_1's auc: 0.707933\n",
      "[355]\ttraining's auc: 0.72709\tvalid_1's auc: 0.707931\n",
      "[356]\ttraining's auc: 0.727135\tvalid_1's auc: 0.707962\n",
      "[357]\ttraining's auc: 0.727176\tvalid_1's auc: 0.707939\n",
      "[358]\ttraining's auc: 0.727198\tvalid_1's auc: 0.707971\n",
      "[359]\ttraining's auc: 0.72726\tvalid_1's auc: 0.707977\n",
      "[360]\ttraining's auc: 0.727335\tvalid_1's auc: 0.707992\n",
      "[361]\ttraining's auc: 0.727394\tvalid_1's auc: 0.708016\n",
      "[362]\ttraining's auc: 0.727418\tvalid_1's auc: 0.70806\n",
      "[363]\ttraining's auc: 0.727467\tvalid_1's auc: 0.708091\n",
      "[364]\ttraining's auc: 0.727536\tvalid_1's auc: 0.708109\n",
      "[365]\ttraining's auc: 0.727567\tvalid_1's auc: 0.708112\n",
      "[366]\ttraining's auc: 0.727598\tvalid_1's auc: 0.708119\n",
      "[367]\ttraining's auc: 0.727601\tvalid_1's auc: 0.708107\n",
      "[368]\ttraining's auc: 0.727654\tvalid_1's auc: 0.708076\n",
      "[369]\ttraining's auc: 0.727706\tvalid_1's auc: 0.708092\n",
      "[370]\ttraining's auc: 0.727731\tvalid_1's auc: 0.708104\n",
      "[371]\ttraining's auc: 0.7278\tvalid_1's auc: 0.708111\n",
      "[372]\ttraining's auc: 0.727809\tvalid_1's auc: 0.708098\n",
      "[373]\ttraining's auc: 0.72786\tvalid_1's auc: 0.70807\n",
      "[374]\ttraining's auc: 0.727901\tvalid_1's auc: 0.708098\n",
      "[375]\ttraining's auc: 0.727954\tvalid_1's auc: 0.708098\n",
      "[376]\ttraining's auc: 0.727975\tvalid_1's auc: 0.708097\n",
      "[377]\ttraining's auc: 0.728004\tvalid_1's auc: 0.708066\n",
      "[378]\ttraining's auc: 0.728027\tvalid_1's auc: 0.708055\n",
      "[379]\ttraining's auc: 0.728072\tvalid_1's auc: 0.708046\n",
      "[380]\ttraining's auc: 0.728106\tvalid_1's auc: 0.708016\n",
      "[381]\ttraining's auc: 0.728142\tvalid_1's auc: 0.708019\n",
      "[382]\ttraining's auc: 0.728151\tvalid_1's auc: 0.708012\n",
      "[383]\ttraining's auc: 0.728222\tvalid_1's auc: 0.70803\n",
      "[384]\ttraining's auc: 0.728225\tvalid_1's auc: 0.708045\n",
      "[385]\ttraining's auc: 0.728256\tvalid_1's auc: 0.708035\n",
      "[386]\ttraining's auc: 0.728309\tvalid_1's auc: 0.708053\n",
      "[387]\ttraining's auc: 0.728372\tvalid_1's auc: 0.708038\n",
      "[388]\ttraining's auc: 0.72839\tvalid_1's auc: 0.707994\n",
      "[389]\ttraining's auc: 0.728472\tvalid_1's auc: 0.707967\n",
      "[390]\ttraining's auc: 0.72854\tvalid_1's auc: 0.708026\n",
      "[391]\ttraining's auc: 0.728574\tvalid_1's auc: 0.708028\n",
      "[392]\ttraining's auc: 0.728608\tvalid_1's auc: 0.708033\n",
      "[393]\ttraining's auc: 0.728645\tvalid_1's auc: 0.708015\n",
      "[394]\ttraining's auc: 0.728712\tvalid_1's auc: 0.708028\n",
      "[395]\ttraining's auc: 0.728754\tvalid_1's auc: 0.707995\n",
      "[396]\ttraining's auc: 0.728794\tvalid_1's auc: 0.707977\n",
      "Early stopping, best iteration is:\n",
      "[366]\ttraining's auc: 0.727598\tvalid_1's auc: 0.708119\n"
     ]
    },
    {
     "data": {
      "text/plain": [
       "LGBMClassifier(boosting_type='gbdt', class_weight=None, colsample_bytree=0.7,\n",
       "               importance_type='split', learning_rate=0.05, max_depth=3,\n",
       "               metric=['auc'], min_child_samples=22, min_child_weight=0.001,\n",
       "               min_split_gain=0.0, n_estimators=400, n_jobs=-1, num_leaves=50,\n",
       "               objective='binary', random_state=None, reg_alpha=0.0,\n",
       "               reg_lambda=1, silent=True, subsample=0.6,\n",
       "               subsample_for_bin=200000, subsample_freq=0)"
      ]
     },
     "execution_count": 61,
     "metadata": {},
     "output_type": "execute_result"
    }
   ],
   "source": [
    "model_lgb.fit(\n",
    "    X_train, y_train,\n",
    "    eval_metric='auc', \n",
    "    eval_set=[(X_train, y_train), (X_valid, y_valid)],\n",
    "    verbose=True,\n",
    "    #早停法，如果auc在10epoch没有进步就stop\n",
    "    early_stopping_rounds=30 \n",
    ")"
   ]
  },
  {
   "cell_type": "code",
   "execution_count": 62,
   "metadata": {
    "ExecuteTime": {
     "end_time": "2021-02-27T08:40:01.794203Z",
     "start_time": "2021-02-27T08:39:59.178201Z"
    }
   },
   "outputs": [],
   "source": [
    "prob = model_lgb.predict_proba(test_data)\n",
    "submission['prob'] = pd.Series(prob[:,1])\n",
    "# submission.drop(['origin'], axis=1, inplace=True)\n",
    "submission.to_csv('./submission/prediction_lgb_1.csv', index=False)"
   ]
  },
  {
   "cell_type": "code",
   "execution_count": null,
   "metadata": {},
   "outputs": [],
   "source": []
  }
 ],
 "metadata": {
  "kernelspec": {
   "display_name": "rs",
   "language": "python",
   "name": "rs"
  },
  "language_info": {
   "codemirror_mode": {
    "name": "ipython",
    "version": 3
   },
   "file_extension": ".py",
   "mimetype": "text/x-python",
   "name": "python",
   "nbconvert_exporter": "python",
   "pygments_lexer": "ipython3",
   "version": "3.8.5"
  },
  "toc": {
   "base_numbering": 1,
   "nav_menu": {},
   "number_sections": true,
   "sideBar": true,
   "skip_h1_title": false,
   "title_cell": "Table of Contents",
   "title_sidebar": "Contents",
   "toc_cell": false,
   "toc_position": {},
   "toc_section_display": true,
   "toc_window_display": false
  },
  "varInspector": {
   "cols": {
    "lenName": 16,
    "lenType": 16,
    "lenVar": 40
   },
   "kernels_config": {
    "python": {
     "delete_cmd_postfix": "",
     "delete_cmd_prefix": "del ",
     "library": "var_list.py",
     "varRefreshCmd": "print(var_dic_list())"
    },
    "r": {
     "delete_cmd_postfix": ") ",
     "delete_cmd_prefix": "rm(",
     "library": "var_list.r",
     "varRefreshCmd": "cat(var_dic_list()) "
    }
   },
   "types_to_exclude": [
    "module",
    "function",
    "builtin_function_or_method",
    "instance",
    "_Feature"
   ],
   "window_display": false
  }
 },
 "nbformat": 4,
 "nbformat_minor": 4
}
